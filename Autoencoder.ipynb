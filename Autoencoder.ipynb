{
  "nbformat": 4,
  "nbformat_minor": 0,
  "metadata": {
    "colab": {
      "name": "Autoencoder.ipynb",
      "provenance": [],
      "collapsed_sections": [],
      "mount_file_id": "14uOdFm8Kvupvjjw-ryENo7y6gIEVnDle",
      "authorship_tag": "ABX9TyOFE3lCxn/yh5MUeGWzlDxF",
      "include_colab_link": true
    },
    "kernelspec": {
      "name": "python3",
      "display_name": "Python 3"
    },
    "language_info": {
      "name": "python"
    }
  },
  "cells": [
    {
      "cell_type": "markdown",
      "metadata": {
        "id": "view-in-github",
        "colab_type": "text"
      },
      "source": [
        "<a href=\"https://colab.research.google.com/github/silviolima07/autoencoders/blob/main/Autoencoder.ipynb\" target=\"_parent\"><img src=\"https://colab.research.google.com/assets/colab-badge.svg\" alt=\"Open In Colab\"/></a>"
      ]
    },
    {
      "cell_type": "markdown",
      "source": [
        "# Autoencoders\n",
        "## - Seu principio de funcionamento é reproduzir na saida um conjunto de dados recebido na entrada.\n",
        "## - Esse conjunto apresenta determinados padrões que o modelo deve reproduzir nos dados de saída.\n",
        "# Aplicações na saúde\n",
        "## - um dataset pode identificar comportamentos, sintomas ou alterações. Treinando o modelo com dados classificados como normal, ao receber dados com alterações, a saida gerada irá apresentar um erro. Esse erro a partir de determinado valor classifica uma linha desse conjunto como normal ou anormal.\n",
        "# Em aplicações comerciais\n",
        "## - um dataset que registra o comportamento de gastos de uma pessoa é usado para treinar um modelo. Quando os dados indicam um comportamento muito diferente, ele é classificado como fraude por exemplo.\n",
        "\n",
        "#Um exemplo de remoção de ruido é apresentado.\n",
        "\n",
        "# Autoencoder\n",
        "## - pode ser usado para redução de dimensionalidade também, vc fornece uma quantidade de dados de entrada e ao passar pelo treinamento, ele identifica os principais atributos e gera na saida o equivalente porém em uma dimensão menor conforme foi construido o modelo.\n"
      ],
      "metadata": {
        "id": "PuyOu9sxRJ1_"
      }
    },
    {
      "cell_type": "code",
      "execution_count": null,
      "metadata": {
        "id": "J12xkenOAMPS"
      },
      "outputs": [],
      "source": [
        "import pandas as pd\n",
        "import numpy as np\n",
        "import pickle\n",
        "import matplotlib.pyplot as plt\n",
        "import tensorflow as tf\n",
        "import seaborn as sns\n",
        "from sklearn.model_selection import train_test_split\n",
        "from sklearn.preprocessing import StandardScaler\n",
        "from sklearn.metrics import confusion_matrix\n",
        "from tensorflow.keras.models import Model, load_model, Sequential\n",
        "from tensorflow.keras.layers import Input, Dense\n",
        "from tensorflow.keras.callbacks import ModelCheckpoint, TensorBoard\n",
        "from keras.datasets import mnist\n"
      ]
    },
    {
      "cell_type": "markdown",
      "source": [
        "# Caso de uso: Saúde"
      ],
      "metadata": {
        "id": "mR1VP1PsSvMw"
      }
    },
    {
      "cell_type": "markdown",
      "source": [
        "## Este dataset contém dados do registro do sinal ecg obtido em exames de eletrocardiograma. \n",
        "## Este exame avalia o batimento cardiaco e pode detectar anomalias no coração."
      ],
      "metadata": {
        "id": "UHgZY0DL6FIF"
      }
    },
    {
      "cell_type": "code",
      "source": [
        "df_ecg = pd.read_csv('https://storage.googleapis.com/download.tensorflow.org/data/ecg.csv', header = None)"
      ],
      "metadata": {
        "id": "asW5SuAkpc13"
      },
      "execution_count": null,
      "outputs": []
    },
    {
      "cell_type": "code",
      "source": [
        "df_ecg.head()"
      ],
      "metadata": {
        "colab": {
          "base_uri": "https://localhost:8080/",
          "height": 300
        },
        "id": "4kiL6iWbp96Y",
        "outputId": "9a9e566f-b945-48b4-e5ee-50b5cce7a7cf"
      },
      "execution_count": null,
      "outputs": [
        {
          "output_type": "execute_result",
          "data": {
            "text/plain": [
              "        0         1         2         3         4         5         6    \\\n",
              "0 -0.112522 -2.827204 -3.773897 -4.349751 -4.376041 -3.474986 -2.181408   \n",
              "1 -1.100878 -3.996840 -4.285843 -4.506579 -4.022377 -3.234368 -1.566126   \n",
              "2 -0.567088 -2.593450 -3.874230 -4.584095 -4.187449 -3.151462 -1.742940   \n",
              "3  0.490473 -1.914407 -3.616364 -4.318823 -4.268016 -3.881110 -2.993280   \n",
              "4  0.800232 -0.874252 -2.384761 -3.973292 -4.338224 -3.802422 -2.534510   \n",
              "\n",
              "        7         8         9    ...       131       132       133       134  \\\n",
              "0 -1.818286 -1.250522 -0.477492  ...  0.792168  0.933541  0.796958  0.578621   \n",
              "1 -0.992258 -0.754680  0.042321  ...  0.538356  0.656881  0.787490  0.724046   \n",
              "2 -1.490659 -1.183580 -0.394229  ...  0.886073  0.531452  0.311377 -0.021919   \n",
              "3 -1.671131 -1.333884 -0.965629  ...  0.350816  0.499111  0.600345  0.842069   \n",
              "4 -1.783423 -1.594450 -0.753199  ...  1.148884  0.958434  1.059025  1.371682   \n",
              "\n",
              "        135       136       137       138       139  140  \n",
              "0  0.257740  0.228077  0.123431  0.925286  0.193137  1.0  \n",
              "1  0.555784  0.476333  0.773820  1.119621 -1.436250  1.0  \n",
              "2 -0.713683 -0.532197  0.321097  0.904227 -0.421797  1.0  \n",
              "3  0.952074  0.990133  1.086798  1.403011 -0.383564  1.0  \n",
              "4  1.277392  0.960304  0.971020  1.614392  1.421456  1.0  \n",
              "\n",
              "[5 rows x 141 columns]"
            ],
            "text/html": [
              "\n",
              "  <div id=\"df-0f60ce4a-091b-4b2a-99d1-6a42d18c1a83\">\n",
              "    <div class=\"colab-df-container\">\n",
              "      <div>\n",
              "<style scoped>\n",
              "    .dataframe tbody tr th:only-of-type {\n",
              "        vertical-align: middle;\n",
              "    }\n",
              "\n",
              "    .dataframe tbody tr th {\n",
              "        vertical-align: top;\n",
              "    }\n",
              "\n",
              "    .dataframe thead th {\n",
              "        text-align: right;\n",
              "    }\n",
              "</style>\n",
              "<table border=\"1\" class=\"dataframe\">\n",
              "  <thead>\n",
              "    <tr style=\"text-align: right;\">\n",
              "      <th></th>\n",
              "      <th>0</th>\n",
              "      <th>1</th>\n",
              "      <th>2</th>\n",
              "      <th>3</th>\n",
              "      <th>4</th>\n",
              "      <th>5</th>\n",
              "      <th>6</th>\n",
              "      <th>7</th>\n",
              "      <th>8</th>\n",
              "      <th>9</th>\n",
              "      <th>...</th>\n",
              "      <th>131</th>\n",
              "      <th>132</th>\n",
              "      <th>133</th>\n",
              "      <th>134</th>\n",
              "      <th>135</th>\n",
              "      <th>136</th>\n",
              "      <th>137</th>\n",
              "      <th>138</th>\n",
              "      <th>139</th>\n",
              "      <th>140</th>\n",
              "    </tr>\n",
              "  </thead>\n",
              "  <tbody>\n",
              "    <tr>\n",
              "      <th>0</th>\n",
              "      <td>-0.112522</td>\n",
              "      <td>-2.827204</td>\n",
              "      <td>-3.773897</td>\n",
              "      <td>-4.349751</td>\n",
              "      <td>-4.376041</td>\n",
              "      <td>-3.474986</td>\n",
              "      <td>-2.181408</td>\n",
              "      <td>-1.818286</td>\n",
              "      <td>-1.250522</td>\n",
              "      <td>-0.477492</td>\n",
              "      <td>...</td>\n",
              "      <td>0.792168</td>\n",
              "      <td>0.933541</td>\n",
              "      <td>0.796958</td>\n",
              "      <td>0.578621</td>\n",
              "      <td>0.257740</td>\n",
              "      <td>0.228077</td>\n",
              "      <td>0.123431</td>\n",
              "      <td>0.925286</td>\n",
              "      <td>0.193137</td>\n",
              "      <td>1.0</td>\n",
              "    </tr>\n",
              "    <tr>\n",
              "      <th>1</th>\n",
              "      <td>-1.100878</td>\n",
              "      <td>-3.996840</td>\n",
              "      <td>-4.285843</td>\n",
              "      <td>-4.506579</td>\n",
              "      <td>-4.022377</td>\n",
              "      <td>-3.234368</td>\n",
              "      <td>-1.566126</td>\n",
              "      <td>-0.992258</td>\n",
              "      <td>-0.754680</td>\n",
              "      <td>0.042321</td>\n",
              "      <td>...</td>\n",
              "      <td>0.538356</td>\n",
              "      <td>0.656881</td>\n",
              "      <td>0.787490</td>\n",
              "      <td>0.724046</td>\n",
              "      <td>0.555784</td>\n",
              "      <td>0.476333</td>\n",
              "      <td>0.773820</td>\n",
              "      <td>1.119621</td>\n",
              "      <td>-1.436250</td>\n",
              "      <td>1.0</td>\n",
              "    </tr>\n",
              "    <tr>\n",
              "      <th>2</th>\n",
              "      <td>-0.567088</td>\n",
              "      <td>-2.593450</td>\n",
              "      <td>-3.874230</td>\n",
              "      <td>-4.584095</td>\n",
              "      <td>-4.187449</td>\n",
              "      <td>-3.151462</td>\n",
              "      <td>-1.742940</td>\n",
              "      <td>-1.490659</td>\n",
              "      <td>-1.183580</td>\n",
              "      <td>-0.394229</td>\n",
              "      <td>...</td>\n",
              "      <td>0.886073</td>\n",
              "      <td>0.531452</td>\n",
              "      <td>0.311377</td>\n",
              "      <td>-0.021919</td>\n",
              "      <td>-0.713683</td>\n",
              "      <td>-0.532197</td>\n",
              "      <td>0.321097</td>\n",
              "      <td>0.904227</td>\n",
              "      <td>-0.421797</td>\n",
              "      <td>1.0</td>\n",
              "    </tr>\n",
              "    <tr>\n",
              "      <th>3</th>\n",
              "      <td>0.490473</td>\n",
              "      <td>-1.914407</td>\n",
              "      <td>-3.616364</td>\n",
              "      <td>-4.318823</td>\n",
              "      <td>-4.268016</td>\n",
              "      <td>-3.881110</td>\n",
              "      <td>-2.993280</td>\n",
              "      <td>-1.671131</td>\n",
              "      <td>-1.333884</td>\n",
              "      <td>-0.965629</td>\n",
              "      <td>...</td>\n",
              "      <td>0.350816</td>\n",
              "      <td>0.499111</td>\n",
              "      <td>0.600345</td>\n",
              "      <td>0.842069</td>\n",
              "      <td>0.952074</td>\n",
              "      <td>0.990133</td>\n",
              "      <td>1.086798</td>\n",
              "      <td>1.403011</td>\n",
              "      <td>-0.383564</td>\n",
              "      <td>1.0</td>\n",
              "    </tr>\n",
              "    <tr>\n",
              "      <th>4</th>\n",
              "      <td>0.800232</td>\n",
              "      <td>-0.874252</td>\n",
              "      <td>-2.384761</td>\n",
              "      <td>-3.973292</td>\n",
              "      <td>-4.338224</td>\n",
              "      <td>-3.802422</td>\n",
              "      <td>-2.534510</td>\n",
              "      <td>-1.783423</td>\n",
              "      <td>-1.594450</td>\n",
              "      <td>-0.753199</td>\n",
              "      <td>...</td>\n",
              "      <td>1.148884</td>\n",
              "      <td>0.958434</td>\n",
              "      <td>1.059025</td>\n",
              "      <td>1.371682</td>\n",
              "      <td>1.277392</td>\n",
              "      <td>0.960304</td>\n",
              "      <td>0.971020</td>\n",
              "      <td>1.614392</td>\n",
              "      <td>1.421456</td>\n",
              "      <td>1.0</td>\n",
              "    </tr>\n",
              "  </tbody>\n",
              "</table>\n",
              "<p>5 rows × 141 columns</p>\n",
              "</div>\n",
              "      <button class=\"colab-df-convert\" onclick=\"convertToInteractive('df-0f60ce4a-091b-4b2a-99d1-6a42d18c1a83')\"\n",
              "              title=\"Convert this dataframe to an interactive table.\"\n",
              "              style=\"display:none;\">\n",
              "        \n",
              "  <svg xmlns=\"http://www.w3.org/2000/svg\" height=\"24px\"viewBox=\"0 0 24 24\"\n",
              "       width=\"24px\">\n",
              "    <path d=\"M0 0h24v24H0V0z\" fill=\"none\"/>\n",
              "    <path d=\"M18.56 5.44l.94 2.06.94-2.06 2.06-.94-2.06-.94-.94-2.06-.94 2.06-2.06.94zm-11 1L8.5 8.5l.94-2.06 2.06-.94-2.06-.94L8.5 2.5l-.94 2.06-2.06.94zm10 10l.94 2.06.94-2.06 2.06-.94-2.06-.94-.94-2.06-.94 2.06-2.06.94z\"/><path d=\"M17.41 7.96l-1.37-1.37c-.4-.4-.92-.59-1.43-.59-.52 0-1.04.2-1.43.59L10.3 9.45l-7.72 7.72c-.78.78-.78 2.05 0 2.83L4 21.41c.39.39.9.59 1.41.59.51 0 1.02-.2 1.41-.59l7.78-7.78 2.81-2.81c.8-.78.8-2.07 0-2.86zM5.41 20L4 18.59l7.72-7.72 1.47 1.35L5.41 20z\"/>\n",
              "  </svg>\n",
              "      </button>\n",
              "      \n",
              "  <style>\n",
              "    .colab-df-container {\n",
              "      display:flex;\n",
              "      flex-wrap:wrap;\n",
              "      gap: 12px;\n",
              "    }\n",
              "\n",
              "    .colab-df-convert {\n",
              "      background-color: #E8F0FE;\n",
              "      border: none;\n",
              "      border-radius: 50%;\n",
              "      cursor: pointer;\n",
              "      display: none;\n",
              "      fill: #1967D2;\n",
              "      height: 32px;\n",
              "      padding: 0 0 0 0;\n",
              "      width: 32px;\n",
              "    }\n",
              "\n",
              "    .colab-df-convert:hover {\n",
              "      background-color: #E2EBFA;\n",
              "      box-shadow: 0px 1px 2px rgba(60, 64, 67, 0.3), 0px 1px 3px 1px rgba(60, 64, 67, 0.15);\n",
              "      fill: #174EA6;\n",
              "    }\n",
              "\n",
              "    [theme=dark] .colab-df-convert {\n",
              "      background-color: #3B4455;\n",
              "      fill: #D2E3FC;\n",
              "    }\n",
              "\n",
              "    [theme=dark] .colab-df-convert:hover {\n",
              "      background-color: #434B5C;\n",
              "      box-shadow: 0px 1px 3px 1px rgba(0, 0, 0, 0.15);\n",
              "      filter: drop-shadow(0px 1px 2px rgba(0, 0, 0, 0.3));\n",
              "      fill: #FFFFFF;\n",
              "    }\n",
              "  </style>\n",
              "\n",
              "      <script>\n",
              "        const buttonEl =\n",
              "          document.querySelector('#df-0f60ce4a-091b-4b2a-99d1-6a42d18c1a83 button.colab-df-convert');\n",
              "        buttonEl.style.display =\n",
              "          google.colab.kernel.accessAllowed ? 'block' : 'none';\n",
              "\n",
              "        async function convertToInteractive(key) {\n",
              "          const element = document.querySelector('#df-0f60ce4a-091b-4b2a-99d1-6a42d18c1a83');\n",
              "          const dataTable =\n",
              "            await google.colab.kernel.invokeFunction('convertToInteractive',\n",
              "                                                     [key], {});\n",
              "          if (!dataTable) return;\n",
              "\n",
              "          const docLinkHtml = 'Like what you see? Visit the ' +\n",
              "            '<a target=\"_blank\" href=https://colab.research.google.com/notebooks/data_table.ipynb>data table notebook</a>'\n",
              "            + ' to learn more about interactive tables.';\n",
              "          element.innerHTML = '';\n",
              "          dataTable['output_type'] = 'display_data';\n",
              "          await google.colab.output.renderOutput(dataTable, element);\n",
              "          const docLink = document.createElement('div');\n",
              "          docLink.innerHTML = docLinkHtml;\n",
              "          element.appendChild(docLink);\n",
              "        }\n",
              "      </script>\n",
              "    </div>\n",
              "  </div>\n",
              "  "
            ]
          },
          "metadata": {},
          "execution_count": 3
        }
      ]
    },
    {
      "cell_type": "markdown",
      "source": [
        "## Separando X e  y.\n",
        "## dados receberá as colunas com os dados dos sinais coletados.\n",
        "## labels receberá a colunas com as classificações do sinal."
      ],
      "metadata": {
        "id": "ddJ0p-qpBSUC"
      }
    },
    {
      "cell_type": "code",
      "source": [
        "dados = df_ecg.iloc[:,:-1].values # Pega os dados em cada linha até a penultima coluna, na forma de array.\n",
        "labels = df_ecg.iloc[:,-1].values"
      ],
      "metadata": {
        "id": "qlBtiirCqVIU"
      },
      "execution_count": null,
      "outputs": []
    },
    {
      "cell_type": "code",
      "source": [
        ""
      ],
      "metadata": {
        "id": "93hoj8uRCErs"
      },
      "execution_count": null,
      "outputs": []
    },
    {
      "cell_type": "markdown",
      "source": [
        "## Dados de treino e teste"
      ],
      "metadata": {
        "id": "ib3PNE65CGDp"
      }
    },
    {
      "cell_type": "code",
      "source": [
        "dados_treino, dados_teste, labels_treino, labels_teste = train_test_split(dados, labels, test_size = 0.2, random_state = 2)"
      ],
      "metadata": {
        "id": "FQoJNmQbrPrk"
      },
      "execution_count": null,
      "outputs": []
    },
    {
      "cell_type": "markdown",
      "source": [
        "## Normalização com MinMaxScaler"
      ],
      "metadata": {
        "id": "TP7pvQUsCPl-"
      }
    },
    {
      "cell_type": "code",
      "source": [
        "min = tf.reduce_min(dados_treino)\n",
        "max = tf.reduce_max(dados_treino)\n",
        "#\n",
        "dados_treino = (dados_treino - min)/(max - min)\n",
        "dados_teste = (dados_teste - min) / (max - min)"
      ],
      "metadata": {
        "id": "sn4GmH_a_PSh"
      },
      "execution_count": null,
      "outputs": []
    },
    {
      "cell_type": "markdown",
      "source": [
        "## Converter 0 e 1 em True e False"
      ],
      "metadata": {
        "id": "lUG2t99cCeqO"
      }
    },
    {
      "cell_type": "code",
      "source": [
        "labels_treino = labels_treino.astype(bool)\n",
        "labels_teste = labels_teste.astype(bool)"
      ],
      "metadata": {
        "id": "wS-V3uXs_PbY"
      },
      "execution_count": null,
      "outputs": []
    },
    {
      "cell_type": "markdown",
      "source": [
        "## Extrair apenas os dados considerados normal (1/True) em treino e teste.\n"
      ],
      "metadata": {
        "id": "2dI13Q7SCoBw"
      }
    },
    {
      "cell_type": "code",
      "source": [
        "dados_treino_normal = dados_treino[labels_treino]\n",
        "dados_teste_normal = dados_teste[labels_teste]"
      ],
      "metadata": {
        "id": "uCzY4_oMAGiv"
      },
      "execution_count": null,
      "outputs": []
    },
    {
      "cell_type": "code",
      "source": [
        "plt.plot(np.arange(140), dados_treino_normal[0])"
      ],
      "metadata": {
        "colab": {
          "base_uri": "https://localhost:8080/",
          "height": 282
        },
        "id": "DjeJ4vio_PfD",
        "outputId": "2c02e755-98f2-40a5-a55f-c34a18547daf"
      },
      "execution_count": null,
      "outputs": [
        {
          "output_type": "execute_result",
          "data": {
            "text/plain": [
              "[<matplotlib.lines.Line2D at 0x7fb6f66d9f10>]"
            ]
          },
          "metadata": {},
          "execution_count": 9
        },
        {
          "output_type": "display_data",
          "data": {
            "text/plain": [
              "<Figure size 432x288 with 1 Axes>"
            ],
            "image/png": "[encoded data removed]"
          },
          "metadata": {
            "needs_background": "light"
          }
        }
      ]
    },
    {
      "cell_type": "markdown",
      "source": [
        "## Extrair apenas os dados considerados anormal (0/False) em treino e teste.\n",
        "## O caracter ~ inverte o valor booleano de False para True e assim extraimos apenas o valores anormais."
      ],
      "metadata": {
        "id": "M1z4eNhdEt_O"
      }
    },
    {
      "cell_type": "code",
      "source": [
        "dados_treino_anormal = dados_treino[~labels_treino]\n",
        "dados_teste_anormal = dados_teste[~labels_teste]"
      ],
      "metadata": {
        "id": "HmxF6v-3ErK3"
      },
      "execution_count": null,
      "outputs": []
    },
    {
      "cell_type": "code",
      "source": [
        "plt.plot(np.arange(140), dados_treino_anormal[0])"
      ],
      "metadata": {
        "colab": {
          "base_uri": "https://localhost:8080/",
          "height": 285
        },
        "id": "gTMrwtxb_qxB",
        "outputId": "40761623-a57a-401a-9fef-212850b304be"
      },
      "execution_count": null,
      "outputs": [
        {
          "output_type": "execute_result",
          "data": {
            "text/plain": [
              "[<matplotlib.lines.Line2D at 0x7fb6eef07990>]"
            ]
          },
          "metadata": {},
          "execution_count": 141
        },
        {
          "output_type": "display_data",
          "data": {
            "text/plain": [
              "<Figure size 432x288 with 1 Axes>"
            ],
            "image/png": "[encoded data removed]"
          },
          "metadata": {}
        }
      ]
    },
    {
      "cell_type": "code",
      "source": [
        ""
      ],
      "metadata": {
        "id": "GotjIWV8G37S"
      },
      "execution_count": null,
      "outputs": []
    },
    {
      "cell_type": "markdown",
      "source": [
        "## Um modelo de redes neurais será construído. \n",
        "## Ele receberá os dados de entrada, irá aprender as caracteristicas dos dados, afim de reproduzir o sinal na saída."
      ],
      "metadata": {
        "id": "LwAhTIWCHVQz"
      }
    },
    {
      "cell_type": "code",
      "source": [
        "#Build the Neural Network\n",
        "input_dim = dados_treino_normal.shape[1]\n",
        " \n",
        "model = Sequential()\n",
        "model.add(Dense(32,input_dim = input_dim, activation=\"relu\"))\n",
        "model.add(Dense(16, activation=\"relu\"))\n",
        "model.add(Dense(8, activation=\"relu\"))\n",
        "model.add(Dense(16, activation=\"relu\"))\n",
        "model.add(Dense(32, activation=\"relu\"))\n",
        "model.add(Dense(input_dim, activation=\"sigmoid\"))\n",
        "model.compile(optimizer='adam', loss='mae')\n",
        " \n",
        "#Check the architecture of the autoencoder\n",
        "model.summary()"
      ],
      "metadata": {
        "colab": {
          "base_uri": "https://localhost:8080/"
        },
        "id": "HGkgyyTU_q7J",
        "outputId": "a711fec8-defd-4e8a-94fe-ea4f6744ff55"
      },
      "execution_count": null,
      "outputs": [
        {
          "output_type": "stream",
          "name": "stdout",
          "text": [
            "Model: \"sequential\"\n",
            "_________________________________________________________________\n",
            " Layer (type)                Output Shape              Param #   \n",
            "=================================================================\n",
            " dense (Dense)               (None, 32)                4512      \n",
            "                                                                 \n",
            " dense_1 (Dense)             (None, 16)                528       \n",
            "                                                                 \n",
            " dense_2 (Dense)             (None, 8)                 136       \n",
            "                                                                 \n",
            " dense_3 (Dense)             (None, 16)                144       \n",
            "                                                                 \n",
            " dense_4 (Dense)             (None, 32)                544       \n",
            "                                                                 \n",
            " dense_5 (Dense)             (None, 140)               4620      \n",
            "                                                                 \n",
            "=================================================================\n",
            "Total params: 10,484\n",
            "Trainable params: 10,484\n",
            "Non-trainable params: 0\n",
            "_________________________________________________________________\n"
          ]
        }
      ]
    },
    {
      "cell_type": "markdown",
      "source": [
        "## Treinamento do modelo.\n",
        "## Durante o treinamento o modelo irá receber os dados considerados normais e deverá apresentar na saída os mesmos sinais.\n",
        "## O objetivo é o modelo saber as caracteristicas de um sinal normal e quando receber um novo conjunto de dados gerar um sinal normal a partir das caracteristicas que um sinal normal possue."
      ],
      "metadata": {
        "id": "s2fTMQHTHj3S"
      }
    },
    {
      "cell_type": "code",
      "source": [
        "#Fit the autoencoder and check loss for train and test\n",
        "checkpointer = ModelCheckpoint(filepath=\"nae.h5\", verbose=0, save_best_only=True)\n",
        " \n",
        "#Save history to plot learning curves\n",
        "history = model.fit(dados_treino_normal, dados_treino_normal,\n",
        "epochs=30,\n",
        "batch_size=512,\n",
        "shuffle=True,\n",
        "validation_data=(dados_teste_normal, dados_teste_normal),\n",
        "verbose=1,\n",
        "callbacks=[checkpointer]).history\n",
        " \n",
        "autoencoder = load_model('nae.h5')\n",
        " \n",
        "#Plot losses\n",
        "plt.plot(history['loss'])\n",
        "plt.plot(history['val_loss'])\n",
        "plt.title('model loss')\n",
        "plt.ylabel('loss')\n",
        "plt.xlabel('epoch')\n",
        "plt.legend(['train', 'test'], loc='upper right')"
      ],
      "metadata": {
        "colab": {
          "base_uri": "https://localhost:8080/",
          "height": 1000
        },
        "id": "jGaaXCfsGi8r",
        "outputId": "146a0024-1a80-4438-ae7e-12080255320e"
      },
      "execution_count": null,
      "outputs": [
        {
          "output_type": "stream",
          "name": "stdout",
          "text": [
            "Epoch 1/30\n",
            "5/5 [==============================] - 2s 121ms/step - loss: 0.1044 - val_loss: 0.1021\n",
            "Epoch 2/30\n",
            "5/5 [==============================] - 0s 38ms/step - loss: 0.1006 - val_loss: 0.0972\n",
            "Epoch 3/30\n",
            "5/5 [==============================] - 0s 32ms/step - loss: 0.0946 - val_loss: 0.0894\n",
            "Epoch 4/30\n",
            "5/5 [==============================] - 0s 49ms/step - loss: 0.0860 - val_loss: 0.0797\n",
            "Epoch 5/30\n",
            "5/5 [==============================] - 0s 38ms/step - loss: 0.0763 - val_loss: 0.0706\n",
            "Epoch 6/30\n",
            "5/5 [==============================] - 0s 26ms/step - loss: 0.0670 - val_loss: 0.0605\n",
            "Epoch 7/30\n",
            "5/5 [==============================] - 0s 30ms/step - loss: 0.0569 - val_loss: 0.0511\n",
            "Epoch 8/30\n",
            "5/5 [==============================] - 0s 39ms/step - loss: 0.0478 - val_loss: 0.0427\n",
            "Epoch 9/30\n",
            "5/5 [==============================] - 0s 47ms/step - loss: 0.0400 - val_loss: 0.0361\n",
            "Epoch 10/30\n",
            "5/5 [==============================] - 0s 30ms/step - loss: 0.0338 - val_loss: 0.0311\n",
            "Epoch 11/30\n",
            "5/5 [==============================] - 0s 31ms/step - loss: 0.0295 - val_loss: 0.0283\n",
            "Epoch 12/30\n",
            "5/5 [==============================] - 0s 38ms/step - loss: 0.0272 - val_loss: 0.0268\n",
            "Epoch 13/30\n",
            "5/5 [==============================] - 0s 50ms/step - loss: 0.0258 - val_loss: 0.0256\n",
            "Epoch 14/30\n",
            "5/5 [==============================] - 0s 33ms/step - loss: 0.0248 - val_loss: 0.0248\n",
            "Epoch 15/30\n",
            "5/5 [==============================] - 0s 31ms/step - loss: 0.0241 - val_loss: 0.0243\n",
            "Epoch 16/30\n",
            "5/5 [==============================] - 0s 58ms/step - loss: 0.0236 - val_loss: 0.0240\n",
            "Epoch 17/30\n",
            "5/5 [==============================] - 0s 36ms/step - loss: 0.0233 - val_loss: 0.0238\n",
            "Epoch 18/30\n",
            "5/5 [==============================] - 0s 32ms/step - loss: 0.0232 - val_loss: 0.0237\n",
            "Epoch 19/30\n",
            "5/5 [==============================] - 0s 46ms/step - loss: 0.0231 - val_loss: 0.0237\n",
            "Epoch 20/30\n",
            "5/5 [==============================] - 0s 46ms/step - loss: 0.0231 - val_loss: 0.0237\n",
            "Epoch 21/30\n",
            "5/5 [==============================] - 0s 33ms/step - loss: 0.0231 - val_loss: 0.0237\n",
            "Epoch 22/30\n",
            "5/5 [==============================] - 0s 40ms/step - loss: 0.0231 - val_loss: 0.0237\n",
            "Epoch 23/30\n",
            "5/5 [==============================] - 0s 35ms/step - loss: 0.0231 - val_loss: 0.0237\n",
            "Epoch 24/30\n",
            "5/5 [==============================] - 0s 38ms/step - loss: 0.0230 - val_loss: 0.0237\n",
            "Epoch 25/30\n",
            "5/5 [==============================] - 0s 28ms/step - loss: 0.0230 - val_loss: 0.0236\n",
            "Epoch 26/30\n",
            "5/5 [==============================] - 0s 34ms/step - loss: 0.0230 - val_loss: 0.0236\n",
            "Epoch 27/30\n",
            "5/5 [==============================] - 0s 19ms/step - loss: 0.0230 - val_loss: 0.0236\n",
            "Epoch 28/30\n",
            "5/5 [==============================] - 0s 35ms/step - loss: 0.0230 - val_loss: 0.0236\n",
            "Epoch 29/30\n",
            "5/5 [==============================] - 0s 30ms/step - loss: 0.0230 - val_loss: 0.0236\n",
            "Epoch 30/30\n",
            "5/5 [==============================] - 0s 18ms/step - loss: 0.0230 - val_loss: 0.0236\n"
          ]
        },
        {
          "output_type": "execute_result",
          "data": {
            "text/plain": [
              "<matplotlib.legend.Legend at 0x7fb6f574e290>"
            ]
          },
          "metadata": {},
          "execution_count": 13
        },
        {
          "output_type": "display_data",
          "data": {
            "text/plain": [
              "<Figure size 432x288 with 1 Axes>"
            ],
            "image/png": "[encoded data removed]"
          },
          "metadata": {
            "needs_background": "light"
          }
        }
      ]
    },
    {
      "cell_type": "markdown",
      "source": [
        "## Avaliando se o modelo aprendeu as caracteristicas de um sinal normal.\n",
        "## O modelo é usado com um sinal considerado normal, extraido do conjunto de treino com dados normal."
      ],
      "metadata": {
        "id": "_yot2P-eInXz"
      }
    },
    {
      "cell_type": "code",
      "source": [
        "dados_normal = dados_treino_normal[0]\n",
        "dados_recons = model.predict(dados_treino_normal)[0]\n",
        "plt.plot(np.arange(140), dados_normal)\n",
        "plt.plot(np.arange(140), dados_recons)\n",
        "plt.fill_between(np.arange(140),dados_normal, dados_recons, color='lightcoral')\n",
        "plt.legend(labels=['Input', 'Reconstrucao', 'Erro'])\n",
        "plt.show()"
      ],
      "metadata": {
        "colab": {
          "base_uri": "https://localhost:8080/",
          "height": 265
        },
        "id": "ef2CmyxZAiQ4",
        "outputId": "5f6dcfe0-e07d-4622-ba30-954d2c217459"
      },
      "execution_count": null,
      "outputs": [
        {
          "output_type": "display_data",
          "data": {
            "text/plain": [
              "<Figure size 432x288 with 1 Axes>"
            ],
            "image/png": "[encoded data removed]"
          },
          "metadata": {
            "needs_background": "light"
          }
        }
      ]
    },
    {
      "cell_type": "code",
      "source": [
        ""
      ],
      "metadata": {
        "id": "n9w2v3f9JEvd"
      },
      "execution_count": null,
      "outputs": []
    },
    {
      "cell_type": "markdown",
      "source": [
        "## O modelo recebe um sinal anormal e aplica o aprendizado de um sinal normal sobre os dados.\n",
        "## A area em vermelho identifica o erro ao tentar reproduzir um sinal normal a partir de dados de um sinal anormal."
      ],
      "metadata": {
        "id": "SWS2v15-JFer"
      }
    },
    {
      "cell_type": "code",
      "source": [
        "dados_anormal = dados_treino_anormal[0]\n",
        "dados_recons = model.predict(dados_treino_anormal)[0]\n",
        "plt.plot(np.arange(140), dados_anormal)\n",
        "plt.plot(np.arange(140), dados_recons)\n",
        "plt.fill_between(np.arange(140),dados_anormal, dados_recons, color='lightcoral')\n",
        "plt.legend(labels=['Input', 'Reconstrucao', 'Erro'])\n",
        "plt.show()"
      ],
      "metadata": {
        "colab": {
          "base_uri": "https://localhost:8080/",
          "height": 265
        },
        "id": "Il8xlOerAibC",
        "outputId": "cee1a4bf-20c5-4057-f359-e5c8490fc56d"
      },
      "execution_count": null,
      "outputs": [
        {
          "output_type": "display_data",
          "data": {
            "text/plain": [
              "<Figure size 432x288 with 1 Axes>"
            ],
            "image/png": "[encoded data removed]"
          },
          "metadata": {
            "needs_background": "light"
          }
        }
      ]
    },
    {
      "cell_type": "code",
      "source": [
        ""
      ],
      "metadata": {
        "id": "eK1hiPDHKYv8"
      },
      "execution_count": null,
      "outputs": []
    },
    {
      "cell_type": "markdown",
      "source": [
        "## Quando o modelo foi apresentado a dados de treino normal, o erro representado pela area colorida significa a diferença entre o valor previsto e o valor real foi baixo. Já com dados de um sinal anormal, o erro foi bem expressivo.\n",
        "## Para usar o modelo e identificar se o conjunto de dados representa um sinal normal ou uma anomalia, é preciso identificar a distribuição dos dados no conjunto considerado normal e a partir dai, definir um valor considerado limite, threshold, a partir do qual o conjunto será classificado como normal ou anomalia.\n",
        "## Para isso usamos histograma."
      ],
      "metadata": {
        "id": "YDg5gTyiKaMv"
      }
    },
    {
      "cell_type": "code",
      "source": [
        "reconstructions = model.predict(dados_treino_normal)\n",
        "train_loss = tf.keras.losses.mae(reconstructions, dados_treino_normal)\n",
        "# Histograma\n",
        "plt.hist(train_loss[None,:], bins=50)\n",
        "plt.xlabel(\"Train loss\")\n",
        "plt.ylabel(\"No of examples\")\n",
        "plt.show()"
      ],
      "metadata": {
        "colab": {
          "base_uri": "https://localhost:8080/",
          "height": 279
        },
        "id": "KZF4M_TaAikY",
        "outputId": "4d36d601-5976-4f32-fb7f-db969391a6e1"
      },
      "execution_count": null,
      "outputs": [
        {
          "output_type": "display_data",
          "data": {
            "text/plain": [
              "<Figure size 432x288 with 1 Axes>"
            ],
            "image/png": "[encoded data removed]"
          },
          "metadata": {
            "needs_background": "light"
          }
        }
      ]
    },
    {
      "cell_type": "markdown",
      "source": [
        "## O valor limite será definido a partir do valor médio da perda mais o desvio padrão."
      ],
      "metadata": {
        "id": "YYqrUfTXMA0A"
      }
    },
    {
      "cell_type": "code",
      "source": [
        "threshold = np.mean(train_loss) + np.std(train_loss)\n",
        "print(\"Threshold: \", threshold)"
      ],
      "metadata": {
        "colab": {
          "base_uri": "https://localhost:8080/"
        },
        "id": "djIt0eb4Aiuy",
        "outputId": "ff159ab2-ab83-4920-d5b7-d6a33a56b1db"
      },
      "execution_count": null,
      "outputs": [
        {
          "output_type": "stream",
          "name": "stdout",
          "text": [
            "Threshold:  0.03752197868762033\n"
          ]
        }
      ]
    },
    {
      "cell_type": "markdown",
      "source": [
        "## Quando um novo conjunto de dados for aplicado ao modelo, se o erro encontrado for maior que o threshold esse pode ser classificado como anomalia, pois as caracteristicas de um conjunto normal foram implementadas mas apresentou um erro acima do limite estabelecido."
      ],
      "metadata": {
        "id": "T-pJ6v0qR6rN"
      }
    },
    {
      "cell_type": "code",
      "source": [
        ""
      ],
      "metadata": {
        "id": "gFotOi2eEgB0"
      },
      "execution_count": null,
      "outputs": []
    },
    {
      "cell_type": "code",
      "source": [
        ""
      ],
      "metadata": {
        "id": "6jgJsy-KEgMr"
      },
      "execution_count": null,
      "outputs": []
    },
    {
      "cell_type": "markdown",
      "source": [
        "# Caso de uso: Comercio em geral"
      ],
      "metadata": {
        "id": "URnwXV44TJ44"
      }
    },
    {
      "cell_type": "markdown",
      "source": [
        "## O dataset Creditcard traz um conjunto de dados classificados como normal e fraude.\n",
        "## O conjunto de dados será dividido em normal e fraude.\n",
        "## O conjunto de treino receberá 80% do conjunto classificado como normal."
      ],
      "metadata": {
        "id": "5XvFLIexva0R"
      }
    },
    {
      "cell_type": "code",
      "source": [
        "%matplotlib inline\n",
        "sns.set(style='whitegrid')\n",
        " \n",
        "# Dados de uma competição do Kaggle\n",
        "# https://www.kaggle.com/datasets/mlg-ulb/creditcardfraud\n",
        "df = pd.read_csv(\"/content/drive/MyDrive/Colab Notebooks/dataset/creditcard.csv\")\n",
        " \n",
        "# Coluna que será excluída pois não será considerada.\n",
        "df = df.drop(['Time'], axis=1)\n",
        " \n",
        "# Foi aplicada a redução de dimensionalidade com PCA, a maiorias das colunas são componentes\n",
        "# A coluna Amount será normalizada.\n",
        "df['Amount'] = StandardScaler().fit_transform(df['Amount'].values.reshape(-1, 1))\n",
        " \n",
        "# Divisão em operações classificadas como fraude e normal.\n",
        "df_fraud = df[df['Class']==1]\n",
        "df_normal = df[df['Class']==0]\n",
        "df_normal = df_normal.sample(frac = 1.0).reset_index(drop = True)\n",
        "\n",
        "# df_normal_treino terá 80% do conjunto de dados classificado como normal\n",
        "# df_normal_teste terá 20%.\n",
        "df_normal_treino= df_normal.iloc[:int(df_normal.shape[0]*0.8),:] \n",
        "df_normal_teste = df_normal.iloc[int(df_normal.shape[0]*0.8):,:]\n",
        " \n",
        "# Para tornar o conjunto mais proximo da realidade, um conjunto de teste será gerado com dados de fraude e dados normal. \n",
        "X_test = pd.concat([df_fraud,df_normal_teste], axis = 0)\n",
        "X_test = X_test.sample(frac = 1.0).reset_index(drop = True)\n",
        "\n",
        " \n",
        "# Treino e teste\n",
        "X_train = df_normal_treino[df_normal_treino['Class'] == 0]\n",
        "X_train = X_train.drop(['Class'], axis=1)\n",
        " \n",
        "y_test = X_test['Class']\n",
        "X_test = X_test.drop(['Class'], axis=1)"
      ],
      "metadata": {
        "id": "j-DEqe4ABZT3"
      },
      "execution_count": null,
      "outputs": []
    },
    {
      "cell_type": "code",
      "source": [
        "df_normal.shape"
      ],
      "metadata": {
        "colab": {
          "base_uri": "https://localhost:8080/"
        },
        "id": "aPGRLg-wOfqO",
        "outputId": "54133d2c-8f6b-4fb1-a11a-6adb838da40e"
      },
      "execution_count": null,
      "outputs": [
        {
          "output_type": "execute_result",
          "data": {
            "text/plain": [
              "(284315, 30)"
            ]
          },
          "metadata": {},
          "execution_count": 19
        }
      ]
    },
    {
      "cell_type": "code",
      "source": [
        "df_normal.iloc[0,:]"
      ],
      "metadata": {
        "colab": {
          "base_uri": "https://localhost:8080/"
        },
        "id": "GpGW5r1JQF0Y",
        "outputId": "ec68e921-839a-43b1-b73c-594f712124aa"
      },
      "execution_count": null,
      "outputs": [
        {
          "output_type": "execute_result",
          "data": {
            "text/plain": [
              "V1        1.173084\n",
              "V2        0.060862\n",
              "V3        0.479052\n",
              "V4        0.466952\n",
              "V5       -0.345566\n",
              "V6       -0.226278\n",
              "V7       -0.202649\n",
              "V8        0.150534\n",
              "V9       -0.030743\n",
              "V10       0.095316\n",
              "V11       1.491199\n",
              "V12       0.483873\n",
              "V13      -1.027493\n",
              "V14       0.710627\n",
              "V15       0.719358\n",
              "V16       0.265421\n",
              "V17      -0.325286\n",
              "V18      -0.343301\n",
              "V19      -0.178772\n",
              "V20      -0.192848\n",
              "V21      -0.192364\n",
              "V22      -0.619422\n",
              "V23       0.168021\n",
              "V24      -0.021231\n",
              "V25       0.072795\n",
              "V26       0.111082\n",
              "V27      -0.024526\n",
              "V28       0.002784\n",
              "Amount   -0.345313\n",
              "Class     0.000000\n",
              "Name: 0, dtype: float64"
            ]
          },
          "metadata": {},
          "execution_count": 20
        }
      ]
    },
    {
      "cell_type": "code",
      "source": [
        "plt.plot(np.arange(30),df_normal.iloc[0,:])\n",
        "plt.grid()\n",
        "plt.title(\"Normal\")\n",
        "plt.show()"
      ],
      "metadata": {
        "colab": {
          "base_uri": "https://localhost:8080/",
          "height": 284
        },
        "id": "bBIQ7MC4ENjI",
        "outputId": "d294102c-6107-45ee-f84c-381d692c5815"
      },
      "execution_count": null,
      "outputs": [
        {
          "output_type": "display_data",
          "data": {
            "text/plain": [
              "<Figure size 432x288 with 1 Axes>"
            ],
            "image/png": "[encoded data removed]"
          },
          "metadata": {}
        }
      ]
    },
    {
      "cell_type": "code",
      "source": [
        "df_fraud.iloc[0,:]"
      ],
      "metadata": {
        "colab": {
          "base_uri": "https://localhost:8080/"
        },
        "id": "1FQ5GI7dQNSW",
        "outputId": "0fecec75-dfc6-4ca8-c1aa-380cd63085b7"
      },
      "execution_count": null,
      "outputs": [
        {
          "output_type": "execute_result",
          "data": {
            "text/plain": [
              "V1       -2.312227\n",
              "V2        1.951992\n",
              "V3       -1.609851\n",
              "V4        3.997906\n",
              "V5       -0.522188\n",
              "V6       -1.426545\n",
              "V7       -2.537387\n",
              "V8        1.391657\n",
              "V9       -2.770089\n",
              "V10      -2.772272\n",
              "V11       3.202033\n",
              "V12      -2.899907\n",
              "V13      -0.595222\n",
              "V14      -4.289254\n",
              "V15       0.389724\n",
              "V16      -1.140747\n",
              "V17      -2.830056\n",
              "V18      -0.016822\n",
              "V19       0.416956\n",
              "V20       0.126911\n",
              "V21       0.517232\n",
              "V22      -0.035049\n",
              "V23      -0.465211\n",
              "V24       0.320198\n",
              "V25       0.044519\n",
              "V26       0.177840\n",
              "V27       0.261145\n",
              "V28      -0.143276\n",
              "Amount   -0.353229\n",
              "Class     1.000000\n",
              "Name: 541, dtype: float64"
            ]
          },
          "metadata": {},
          "execution_count": 22
        }
      ]
    },
    {
      "cell_type": "code",
      "source": [
        "plt.plot(df_fraud.iloc[0,:])\n",
        "plt.grid()\n",
        "plt.title(\"Fraud\")\n",
        "plt.show()"
      ],
      "metadata": {
        "colab": {
          "base_uri": "https://localhost:8080/",
          "height": 284
        },
        "id": "ObyJYJvuHJts",
        "outputId": "7ea24bf1-6d32-4b00-8eb7-5609a30a0630"
      },
      "execution_count": null,
      "outputs": [
        {
          "output_type": "display_data",
          "data": {
            "text/plain": [
              "<Figure size 432x288 with 1 Axes>"
            ],
            "image/png": "[encoded data removed]"
          },
          "metadata": {}
        }
      ]
    },
    {
      "cell_type": "markdown",
      "source": [
        "## Construção do modelo que será usado no treinamento"
      ],
      "metadata": {
        "id": "7NM2BwYHwsnu"
      }
    },
    {
      "cell_type": "code",
      "source": [
        "#Build the Neural Network\n",
        "input_dim = X_train.shape[1]\n",
        " \n",
        "model = Sequential()\n",
        "model.add(Dense(29,input_dim = input_dim, activation=\"relu\"))\n",
        "model.add(Dense(14, activation=\"relu\"))\n",
        "model.add(Dense(7, activation=\"relu\"))\n",
        "model.add(Dense(14, activation=\"relu\"))\n",
        "model.add(Dense(input_dim, activation=\"sigmoid\"))\n",
        "model.compile(optimizer='adam', loss='mae', metrics=['accuracy'])\n",
        " \n",
        "#Check the architecture of the autoencoder\n",
        "model.summary()"
      ],
      "metadata": {
        "colab": {
          "base_uri": "https://localhost:8080/"
        },
        "id": "-kXE68bxBZdm",
        "outputId": "903e908f-4cb7-4d89-efc8-1ae9b0a6bb84"
      },
      "execution_count": null,
      "outputs": [
        {
          "output_type": "stream",
          "name": "stdout",
          "text": [
            "Model: \"sequential_9\"\n",
            "_________________________________________________________________\n",
            " Layer (type)                Output Shape              Param #   \n",
            "=================================================================\n",
            " dense_48 (Dense)            (None, 29)                870       \n",
            "                                                                 \n",
            " dense_49 (Dense)            (None, 14)                420       \n",
            "                                                                 \n",
            " dense_50 (Dense)            (None, 7)                 105       \n",
            "                                                                 \n",
            " dense_51 (Dense)            (None, 14)                112       \n",
            "                                                                 \n",
            " dense_52 (Dense)            (None, 29)                435       \n",
            "                                                                 \n",
            "=================================================================\n",
            "Total params: 1,942\n",
            "Trainable params: 1,942\n",
            "Non-trainable params: 0\n",
            "_________________________________________________________________\n"
          ]
        }
      ]
    },
    {
      "cell_type": "code",
      "source": [
        ""
      ],
      "metadata": {
        "id": "DRFp7Bj1w771"
      },
      "execution_count": null,
      "outputs": []
    },
    {
      "cell_type": "markdown",
      "source": [
        "## Treinamento.\n",
        "## O modelo é treinado com dados apenas de operações classificadas como normal.\n",
        "## A validação é feita com dados de teste onde existem dados classificados com fraude e normal.\n",
        "## O modelo deve aprender as caracteristicas de uma operação normal e ser avaliada a partir de dados que indicam fraude e normal."
      ],
      "metadata": {
        "id": "1MS7yu7tw8o4"
      }
    },
    {
      "cell_type": "code",
      "source": [
        "#Fit the autoencoder and check loss for train and test\n",
        "checkpointer = ModelCheckpoint(filepath=\"nae.h5\", verbose=0, save_best_only=True)\n",
        " \n",
        "#Save history to plot learning curves\n",
        "history = model.fit(X_train, X_train, # Dados de operações normal\n",
        "epochs=30,\n",
        "batch_size=32,\n",
        "shuffle=True,\n",
        "validation_data=(X_test, X_test), # Dados de operações com fraude e normal\n",
        "verbose=1,\n",
        "callbacks=[checkpointer]).history\n",
        " \n",
        "autoencoder = load_model('nae.h5')\n",
        " \n",
        "#Plot losses\n",
        "plt.plot(history['loss'])\n",
        "plt.plot(history['val_loss'])\n",
        "plt.title('model loss')\n",
        "plt.ylabel('loss')\n",
        "plt.xlabel('epoch')\n",
        "plt.legend(['train', 'test'], loc='upper right')"
      ],
      "metadata": {
        "colab": {
          "base_uri": "https://localhost:8080/",
          "height": 1000
        },
        "id": "h6oeYcBsElOa",
        "outputId": "7e6d6083-bf9c-4db6-f085-6296f86df67e"
      },
      "execution_count": null,
      "outputs": [
        {
          "output_type": "stream",
          "name": "stdout",
          "text": [
            "Epoch 1/30\n",
            "7108/7108 [==============================] - 17s 2ms/step - loss: 0.5645 - accuracy: 0.4388 - val_loss: 0.5625 - val_accuracy: 0.4986\n",
            "Epoch 2/30\n",
            "7108/7108 [==============================] - 17s 2ms/step - loss: 0.5356 - accuracy: 0.5052 - val_loss: 0.5505 - val_accuracy: 0.5022\n",
            "Epoch 3/30\n",
            "7108/7108 [==============================] - 17s 2ms/step - loss: 0.5242 - accuracy: 0.5229 - val_loss: 0.5425 - val_accuracy: 0.5331\n",
            "Epoch 4/30\n",
            "7108/7108 [==============================] - 18s 3ms/step - loss: 0.5205 - accuracy: 0.5260 - val_loss: 0.5399 - val_accuracy: 0.5195\n",
            "Epoch 5/30\n",
            "7108/7108 [==============================] - 18s 3ms/step - loss: 0.5179 - accuracy: 0.5270 - val_loss: 0.5383 - val_accuracy: 0.5250\n",
            "Epoch 6/30\n",
            "7108/7108 [==============================] - 18s 3ms/step - loss: 0.5158 - accuracy: 0.5320 - val_loss: 0.5358 - val_accuracy: 0.5310\n",
            "Epoch 7/30\n",
            "7108/7108 [==============================] - 18s 3ms/step - loss: 0.5132 - accuracy: 0.5374 - val_loss: 0.5337 - val_accuracy: 0.5376\n",
            "Epoch 8/30\n",
            "7108/7108 [==============================] - 18s 3ms/step - loss: 0.5123 - accuracy: 0.5401 - val_loss: 0.5328 - val_accuracy: 0.5373\n",
            "Epoch 9/30\n",
            "7108/7108 [==============================] - 18s 2ms/step - loss: 0.5116 - accuracy: 0.5424 - val_loss: 0.5318 - val_accuracy: 0.5444\n",
            "Epoch 10/30\n",
            "7108/7108 [==============================] - 18s 3ms/step - loss: 0.5111 - accuracy: 0.5416 - val_loss: 0.5315 - val_accuracy: 0.5395\n",
            "Epoch 11/30\n",
            "7108/7108 [==============================] - 18s 2ms/step - loss: 0.5104 - accuracy: 0.5409 - val_loss: 0.5308 - val_accuracy: 0.5359\n",
            "Epoch 12/30\n",
            "7108/7108 [==============================] - 18s 3ms/step - loss: 0.5097 - accuracy: 0.5425 - val_loss: 0.5303 - val_accuracy: 0.5370\n",
            "Epoch 13/30\n",
            "7108/7108 [==============================] - 18s 3ms/step - loss: 0.5092 - accuracy: 0.5398 - val_loss: 0.5297 - val_accuracy: 0.5427\n",
            "Epoch 14/30\n",
            "7108/7108 [==============================] - 18s 3ms/step - loss: 0.5087 - accuracy: 0.5380 - val_loss: 0.5292 - val_accuracy: 0.5356\n",
            "Epoch 15/30\n",
            "7108/7108 [==============================] - 17s 2ms/step - loss: 0.5082 - accuracy: 0.5328 - val_loss: 0.5284 - val_accuracy: 0.5273\n",
            "Epoch 16/30\n",
            "7108/7108 [==============================] - 18s 3ms/step - loss: 0.5078 - accuracy: 0.5284 - val_loss: 0.5286 - val_accuracy: 0.5266\n",
            "Epoch 17/30\n",
            "7108/7108 [==============================] - 17s 2ms/step - loss: 0.5073 - accuracy: 0.5236 - val_loss: 0.5285 - val_accuracy: 0.5226\n",
            "Epoch 18/30\n",
            "7108/7108 [==============================] - 18s 3ms/step - loss: 0.5066 - accuracy: 0.5185 - val_loss: 0.5273 - val_accuracy: 0.5173\n",
            "Epoch 19/30\n",
            "7108/7108 [==============================] - 19s 3ms/step - loss: 0.5061 - accuracy: 0.5179 - val_loss: 0.5263 - val_accuracy: 0.5172\n",
            "Epoch 20/30\n",
            "7108/7108 [==============================] - 19s 3ms/step - loss: 0.5057 - accuracy: 0.5207 - val_loss: 0.5259 - val_accuracy: 0.5222\n",
            "Epoch 21/30\n",
            "7108/7108 [==============================] - 18s 3ms/step - loss: 0.5053 - accuracy: 0.5209 - val_loss: 0.5259 - val_accuracy: 0.5216\n",
            "Epoch 22/30\n",
            "7108/7108 [==============================] - 18s 3ms/step - loss: 0.5051 - accuracy: 0.5215 - val_loss: 0.5256 - val_accuracy: 0.5249\n",
            "Epoch 23/30\n",
            "7108/7108 [==============================] - 18s 3ms/step - loss: 0.5049 - accuracy: 0.5210 - val_loss: 0.5255 - val_accuracy: 0.5180\n",
            "Epoch 24/30\n",
            "7108/7108 [==============================] - 18s 3ms/step - loss: 0.5047 - accuracy: 0.5212 - val_loss: 0.5252 - val_accuracy: 0.5237\n",
            "Epoch 25/30\n",
            "7108/7108 [==============================] - 18s 3ms/step - loss: 0.5046 - accuracy: 0.5231 - val_loss: 0.5254 - val_accuracy: 0.5256\n",
            "Epoch 26/30\n",
            "7108/7108 [==============================] - 18s 3ms/step - loss: 0.5044 - accuracy: 0.5223 - val_loss: 0.5250 - val_accuracy: 0.5203\n",
            "Epoch 27/30\n",
            "7108/7108 [==============================] - 18s 3ms/step - loss: 0.5042 - accuracy: 0.5225 - val_loss: 0.5252 - val_accuracy: 0.5219\n",
            "Epoch 28/30\n",
            "7108/7108 [==============================] - 17s 2ms/step - loss: 0.5040 - accuracy: 0.5237 - val_loss: 0.5243 - val_accuracy: 0.5223\n",
            "Epoch 29/30\n",
            "7108/7108 [==============================] - 18s 2ms/step - loss: 0.5037 - accuracy: 0.5229 - val_loss: 0.5243 - val_accuracy: 0.5234\n",
            "Epoch 30/30\n",
            "7108/7108 [==============================] - 17s 2ms/step - loss: 0.5035 - accuracy: 0.5253 - val_loss: 0.5237 - val_accuracy: 0.5298\n"
          ]
        },
        {
          "output_type": "execute_result",
          "data": {
            "text/plain": [
              "<matplotlib.legend.Legend at 0x7fb6f0021e50>"
            ]
          },
          "metadata": {},
          "execution_count": 146
        },
        {
          "output_type": "display_data",
          "data": {
            "text/plain": [
              "<Figure size 432x288 with 1 Axes>"
            ],
            "image/png": "[encoded data removed]"
          },
          "metadata": {}
        }
      ]
    },
    {
      "cell_type": "markdown",
      "source": [
        "## Avaliação do modelo\n",
        "## O modelo aplicado aos dados de teste.\n",
        "## A metrica MAE é usada para avaliar o valor previsto e o valor real.\n"
      ],
      "metadata": {
        "id": "6z4fLAHryQaa"
      }
    },
    {
      "cell_type": "code",
      "source": [
        "predictions = model.predict(X_test)\n",
        " \n",
        "mae= tf.keras.losses.mae(X_test, predictions)\n",
        "\n",
        "error_df = pd.DataFrame({'mae': mae,\n",
        "'fraud': y_test})\n",
        " \n",
        "#Set an error threshold above which a transaction is considered fraud\n",
        "threshold = 1.25\n",
        "error_df['pred_01'] = [1 if e > threshold else 0 for e in error_df['mae'].values]\n",
        "conf_mat = confusion_matrix(error_df['fraud'], error_df['pred_01'])\n",
        " \n",
        "#Print confusion matrix for the given threshold\n",
        "ax= plt.subplot()\n",
        "sns.heatmap(conf_mat, annot=True, fmt=\"g\", cmap=\"YlGnBu\")\n",
        " \n",
        "# labels, title and ticks\n",
        "ax.set_xlabel('Predicted labels');ax.set_ylabel('True labels');\n",
        "ax.set_title('Confusion Matrix');\n",
        "ax.set_ylim([0,2])\n",
        "ax.xaxis.set_ticklabels([\"Normal\", \"Fraud\"]); ax.yaxis.set_ticklabels([\"Normal\", \"Fraud\"])\n"
      ],
      "metadata": {
        "colab": {
          "base_uri": "https://localhost:8080/",
          "height": 318
        },
        "id": "bzIFpG-ZMFtX",
        "outputId": "d00e3fe1-74fc-44f0-f0b6-7ad1426b164a"
      },
      "execution_count": null,
      "outputs": [
        {
          "output_type": "execute_result",
          "data": {
            "text/plain": [
              "[Text(0, 0.5, 'Normal'), Text(0, 1.5, 'Fraud')]"
            ]
          },
          "metadata": {},
          "execution_count": 148
        },
        {
          "output_type": "display_data",
          "data": {
            "text/plain": [
              "<Figure size 432x288 with 2 Axes>"
            ],
            "image/png": "[encoded data removed]"
          },
          "metadata": {}
        }
      ]
    },
    {
      "cell_type": "code",
      "source": [
        ""
      ],
      "metadata": {
        "id": "cpRD3QtbCytg"
      },
      "execution_count": null,
      "outputs": []
    },
    {
      "cell_type": "markdown",
      "source": [
        "## Ao aplicar os dados de teste no modelo treinado. a matriz de confusão mostra que 55495 operações classificadas como normal foram identificadas corretamente.\n",
        "## De 492 (88+404) foram corretamente identificadas como fraude 404.\n",
        "## Porém 1368 foram previstas como fraude e na realidade são normal\n",
        "## Melhorias possíveis:\n",
        "- aumento de número de epocas de treinamento\n",
        "- aumento do número de  camadas no modelo\n",
        "- ajuste da divisão treino e teste\n"
      ],
      "metadata": {
        "id": "WL4_oDQkC1uz"
      }
    },
    {
      "cell_type": "code",
      "source": [
        "normal_pred = model.predict(X_train)\n",
        "train_loss =  tf.keras.losses.mae(normal_pred, X_train)\n",
        "# Histograma\n",
        "plt.hist(train_loss, bins=50)\n",
        "plt.xlabel(\"Train loss\")\n",
        "plt.xlim(1,3)\n",
        "plt.ylabel(\"No of examples\")\n",
        "plt.show()"
      ],
      "metadata": {
        "id": "xmiTAsbNG6rT",
        "colab": {
          "base_uri": "https://localhost:8080/",
          "height": 285
        },
        "outputId": "c1be9acd-02cc-4940-a972-d8f333beb0d6"
      },
      "execution_count": null,
      "outputs": [
        {
          "output_type": "display_data",
          "data": {
            "text/plain": [
              "<Figure size 432x288 with 1 Axes>"
            ],
            "image/png": "[encoded data removed]"
          },
          "metadata": {}
        }
      ]
    },
    {
      "cell_type": "code",
      "source": [
        ""
      ],
      "metadata": {
        "id": "hJeNUXuQEb9W"
      },
      "execution_count": null,
      "outputs": []
    },
    {
      "cell_type": "code",
      "source": [
        ""
      ],
      "metadata": {
        "id": "kTpET2FkEcKU"
      },
      "execution_count": null,
      "outputs": []
    },
    {
      "cell_type": "markdown",
      "source": [
        "## Case de uso: remover ruido em imagens"
      ],
      "metadata": {
        "id": "h-4zSeCyETwF"
      }
    },
    {
      "cell_type": "markdown",
      "source": [
        "## Dataset mnist com números escritos a mão."
      ],
      "metadata": {
        "id": "2OwCmbaHEunl"
      }
    },
    {
      "cell_type": "code",
      "source": [
        "(X_train, y_train), (X_test, y_test) = mnist.load_data()"
      ],
      "metadata": {
        "id": "Vz4RoPM1HGK_"
      },
      "execution_count": null,
      "outputs": []
    },
    {
      "cell_type": "code",
      "source": [
        "X_train.shape"
      ],
      "metadata": {
        "colab": {
          "base_uri": "https://localhost:8080/"
        },
        "id": "PqfWeb6OHGZv",
        "outputId": "e5a56073-bfcd-40e3-bb4b-daa4e730ce6b"
      },
      "execution_count": null,
      "outputs": [
        {
          "output_type": "execute_result",
          "data": {
            "text/plain": [
              "(60000, 28, 28)"
            ]
          },
          "metadata": {},
          "execution_count": 164
        }
      ]
    },
    {
      "cell_type": "code",
      "source": [
        "X_test.shape"
      ],
      "metadata": {
        "colab": {
          "base_uri": "https://localhost:8080/"
        },
        "id": "NxPSdJuGHdUC",
        "outputId": "69075e63-6f25-4c25-f9c8-9fbcee200fa7"
      },
      "execution_count": null,
      "outputs": [
        {
          "output_type": "execute_result",
          "data": {
            "text/plain": [
              "(10000, 28, 28)"
            ]
          },
          "metadata": {},
          "execution_count": 165
        }
      ]
    },
    {
      "cell_type": "code",
      "source": [
        "\n",
        "plt.subplot(221)\n",
        "plt.imshow(X_train[0], cmap=plt.get_cmap('gray'))\n",
        "plt.subplot(222)\n",
        "plt.imshow(X_train[1], cmap=plt.get_cmap('gray'))\n",
        "plt.subplot(223)\n",
        "plt.imshow(X_train[2], cmap=plt.get_cmap('gray'))\n",
        "plt.subplot(224)\n",
        "plt.imshow(X_train[3], cmap=plt.get_cmap('gray'))\n",
        "# show the plot\n",
        "plt.show()\n"
      ],
      "metadata": {
        "colab": {
          "base_uri": "https://localhost:8080/",
          "height": 270
        },
        "id": "xq7P9JKiHdhg",
        "outputId": "6b5b423a-d149-4b75-fa0a-8ae767003a79"
      },
      "execution_count": null,
      "outputs": [
        {
          "output_type": "display_data",
          "data": {
            "text/plain": [
              "<Figure size 432x288 with 4 Axes>"
            ],
            "image/png": "[encoded data removed]"
          },
          "metadata": {}
        }
      ]
    },
    {
      "cell_type": "markdown",
      "source": [
        "## Reshape dos dados para linhas e colunas"
      ],
      "metadata": {
        "id": "S6QmLONFKFMG"
      }
    },
    {
      "cell_type": "code",
      "source": [
        "num_pixels = X_train.shape[1] * X_train.shape[2]\n",
        "X_train = X_train.reshape(X_train.shape[0], num_pixels).astype('float32')\n",
        "X_test = X_test.reshape(X_test.shape[0], num_pixels).astype('float32')\n",
        "X_train = X_train / 255\n",
        "X_test = X_test / 255"
      ],
      "metadata": {
        "id": "KOjUoTtuHGpV"
      },
      "execution_count": null,
      "outputs": []
    },
    {
      "cell_type": "code",
      "source": [
        "X_train.shape"
      ],
      "metadata": {
        "colab": {
          "base_uri": "https://localhost:8080/"
        },
        "id": "gs7WeadnJmFI",
        "outputId": "a305afa8-dd37-437a-aae5-b249100d0257"
      },
      "execution_count": null,
      "outputs": [
        {
          "output_type": "execute_result",
          "data": {
            "text/plain": [
              "(60000, 784)"
            ]
          },
          "metadata": {},
          "execution_count": 168
        }
      ]
    },
    {
      "cell_type": "code",
      "source": [
        "X_test.shape"
      ],
      "metadata": {
        "colab": {
          "base_uri": "https://localhost:8080/"
        },
        "id": "-Di3r8RPKeiX",
        "outputId": "2f91e321-e734-4cd7-b78b-cdf44693fe59"
      },
      "execution_count": null,
      "outputs": [
        {
          "output_type": "execute_result",
          "data": {
            "text/plain": [
              "(10000, 784)"
            ]
          },
          "metadata": {},
          "execution_count": 169
        }
      ]
    },
    {
      "cell_type": "code",
      "source": [
        "X_train"
      ],
      "metadata": {
        "colab": {
          "base_uri": "https://localhost:8080/"
        },
        "id": "6LDnXL5JKewZ",
        "outputId": "9246ef3e-0c08-4538-da7f-35719ade8dd9"
      },
      "execution_count": null,
      "outputs": [
        {
          "output_type": "execute_result",
          "data": {
            "text/plain": [
              "array([[0., 0., 0., ..., 0., 0., 0.],\n",
              "       [0., 0., 0., ..., 0., 0., 0.],\n",
              "       [0., 0., 0., ..., 0., 0., 0.],\n",
              "       ...,\n",
              "       [0., 0., 0., ..., 0., 0., 0.],\n",
              "       [0., 0., 0., ..., 0., 0., 0.],\n",
              "       [0., 0., 0., ..., 0., 0., 0.]], dtype=float32)"
            ]
          },
          "metadata": {},
          "execution_count": 170
        }
      ]
    },
    {
      "cell_type": "markdown",
      "source": [
        "## Adicionar um fator de ruido aos dados convertidos."
      ],
      "metadata": {
        "id": "KjH8gzp9KUeS"
      }
    },
    {
      "cell_type": "code",
      "source": [
        "noise_factor = 0.2\n",
        "x_train_noisy = X_train + noise_factor * np.random.normal(loc=0.0, scale=1.0, size=X_train.shape)\n",
        "x_test_noisy = X_test + noise_factor * np.random.normal(loc=0.0, scale=1.0, size=X_test.shape)\n",
        "x_train_noisy = np.clip(x_train_noisy, 0., 1.)\n",
        "x_test_noisy = np.clip(x_test_noisy, 0., 1.)"
      ],
      "metadata": {
        "id": "dDGZKM_XJmSB"
      },
      "execution_count": null,
      "outputs": []
    },
    {
      "cell_type": "code",
      "source": [
        "x_train_noisy.shape"
      ],
      "metadata": {
        "colab": {
          "base_uri": "https://localhost:8080/"
        },
        "id": "3UeF5cFCYhu_",
        "outputId": "c3e77209-60d1-45cd-ace3-b2d71ed962d9"
      },
      "execution_count": null,
      "outputs": [
        {
          "output_type": "execute_result",
          "data": {
            "text/plain": [
              "(60000, 784)"
            ]
          },
          "metadata": {},
          "execution_count": 63
        }
      ]
    },
    {
      "cell_type": "markdown",
      "source": [
        "## Imagem com ruido e imagem original"
      ],
      "metadata": {
        "id": "h1cGXL7tKkbB"
      }
    },
    {
      "cell_type": "code",
      "source": [
        "\n",
        "noisy = np.reshape(x_train_noisy, (60000,28,28)) *255\n",
        "plt.subplot(221)\n",
        "plt.imshow(noisy[3], cmap=plt.get_cmap('gray'))\n",
        "plt.subplot(222)\n",
        "normal = np.reshape(X_train, (60000,28,28)) *255\n",
        "plt.imshow(normal[3], cmap=plt.get_cmap('gray'))\n",
        "# show the plot\n",
        "plt.show()"
      ],
      "metadata": {
        "colab": {
          "base_uri": "https://localhost:8080/",
          "height": 151
        },
        "id": "Oc2NGigrJmeF",
        "outputId": "3221dcc2-8538-4885-feff-a97ec97253a3"
      },
      "execution_count": null,
      "outputs": [
        {
          "output_type": "display_data",
          "data": {
            "text/plain": [
              "<Figure size 432x288 with 2 Axes>"
            ],
            "image/png": "[encoded data removed]"
          },
          "metadata": {}
        }
      ]
    },
    {
      "cell_type": "markdown",
      "source": [
        "## Criação do modelo"
      ],
      "metadata": {
        "id": "9meA5hnsLFu1"
      }
    },
    {
      "cell_type": "code",
      "source": [
        "# create model\n",
        "model = Sequential()\n",
        "model.add(Dense(500, input_dim=num_pixels, activation='relu'))\n",
        "model.add(Dense(300, activation='relu'))\n",
        "model.add(Dense(100, activation='relu'))\n",
        "model.add(Dense(300, activation='relu'))\n",
        "model.add(Dense(500, activation='relu'))\n",
        "model.add(Dense(784, activation='sigmoid'))"
      ],
      "metadata": {
        "id": "GuQA10CPLnAT"
      },
      "execution_count": null,
      "outputs": []
    },
    {
      "cell_type": "code",
      "source": [
        "# Compile the model\n",
        "model.compile(loss='mean_squared_error', optimizer='adam')"
      ],
      "metadata": {
        "id": "qnzhyiUtLnNK"
      },
      "execution_count": null,
      "outputs": []
    },
    {
      "cell_type": "markdown",
      "source": [
        "## Treinamento do modelo\n",
        "## É apresentado ao modelo o conjunto de dados com ruido na entrada e o conjunto de dados sem ruido na saída.\n",
        "## O modelo deve aprender a recriar o conjunto sem ruido.\n",
        "## A validação segue o mesmo principio."
      ],
      "metadata": {
        "id": "54AkAEaxOS3m"
      }
    },
    {
      "cell_type": "code",
      "source": [
        "# Training model\n",
        "model.fit(x_train_noisy, # training data\n",
        "          X_train,       # labels / target\n",
        "          validation_data=(x_test_noisy, X_test), \n",
        "          epochs=2,\n",
        "          batch_size=200)"
      ],
      "metadata": {
        "colab": {
          "base_uri": "https://localhost:8080/"
        },
        "id": "QLIEmFw3NbHh",
        "outputId": "ace55210-3cf0-4b5b-fc4e-6edf85bba74c"
      },
      "execution_count": null,
      "outputs": [
        {
          "output_type": "stream",
          "name": "stdout",
          "text": [
            "Epoch 1/2\n",
            "300/300 [==============================] - 11s 34ms/step - loss: 0.0420 - val_loss: 0.0200\n",
            "Epoch 2/2\n",
            "300/300 [==============================] - 10s 34ms/step - loss: 0.0168 - val_loss: 0.0137\n"
          ]
        },
        {
          "output_type": "execute_result",
          "data": {
            "text/plain": [
              "<keras.callbacks.History at 0x7fb6ee9a4110>"
            ]
          },
          "metadata": {},
          "execution_count": 175
        }
      ]
    },
    {
      "cell_type": "code",
      "source": [
        "pred = model.predict(x_test_noisy)"
      ],
      "metadata": {
        "id": "xPSuG9zvNbT9"
      },
      "execution_count": null,
      "outputs": []
    },
    {
      "cell_type": "code",
      "source": [
        "pred.shape"
      ],
      "metadata": {
        "colab": {
          "base_uri": "https://localhost:8080/"
        },
        "id": "6DZ9ClQPLnX6",
        "outputId": "065f3883-7e72-4766-a0ec-a3611f19eaf8"
      },
      "execution_count": null,
      "outputs": [
        {
          "output_type": "execute_result",
          "data": {
            "text/plain": [
              "(10000, 784)"
            ]
          },
          "metadata": {},
          "execution_count": 178
        }
      ]
    },
    {
      "cell_type": "code",
      "source": [
        "X_test.shape"
      ],
      "metadata": {
        "colab": {
          "base_uri": "https://localhost:8080/"
        },
        "id": "O1cmtKkrN-lP",
        "outputId": "c29559bc-dfa4-494f-9401-12f4eb376f9d"
      },
      "execution_count": null,
      "outputs": [
        {
          "output_type": "execute_result",
          "data": {
            "text/plain": [
              "(10000, 784)"
            ]
          },
          "metadata": {},
          "execution_count": 179
        }
      ]
    },
    {
      "cell_type": "code",
      "source": [
        "X_test = np.reshape(X_test, (10000,28,28)) *255\n",
        "pred = np.reshape(pred, (10000,28,28)) *255\n",
        "x_test_noisy = np.reshape(x_test_noisy, (-1,28,28)) *255\n",
        "plt.figure(figsize=(20, 4))\n",
        "print(\"Imagem original de teste\")\n",
        "for i in range(10,20,1):\n",
        "    plt.subplot(2, 10, i+1)\n",
        "    plt.imshow(X_test[i,:,:], cmap='gray')\n",
        "    curr_lbl = y_test[i]\n",
        "    plt.title(\"(Label: \" + str(curr_lbl) + \")\")\n",
        "plt.show()    \n",
        "plt.figure(figsize=(20, 4))\n",
        "print(\"Imagem teste com uido\")\n",
        "for i in range(10,20,1):\n",
        "    plt.subplot(2, 10, i+1)\n",
        "    plt.imshow(x_test_noisy[i,:,:], cmap='gray')\n",
        "plt.show()    \n",
        "plt.figure(figsize=(20, 4))\n",
        "print(\"Imagem prevista pelo modelo - sem ruido\")\n",
        "for i in range(10,20,1):\n",
        "    plt.subplot(2, 10, i+1)\n",
        "    plt.imshow(pred[i,:,:], cmap='gray')  \n",
        "plt.show()"
      ],
      "metadata": {
        "colab": {
          "base_uri": "https://localhost:8080/",
          "height": 473
        },
        "id": "eO1fed4DN-x8",
        "outputId": "460c65c8-04db-4a2d-a17d-e4e4ef43dfcf"
      },
      "execution_count": null,
      "outputs": [
        {
          "output_type": "stream",
          "name": "stdout",
          "text": [
            "Imagem original de teste\n"
          ]
        },
        {
          "output_type": "display_data",
          "data": {
            "text/plain": [
              "<Figure size 1440x288 with 10 Axes>"
            ],
            "image/png": "[encoded data removed]"
          },
          "metadata": {}
        },
        {
          "output_type": "stream",
          "name": "stdout",
          "text": [
            "Imagem teste com uido\n"
          ]
        },
        {
          "output_type": "display_data",
          "data": {
            "text/plain": [
              "<Figure size 1440x288 with 10 Axes>"
            ],
            "image/png": "[encoded data removed]"
          },
          "metadata": {}
        },
        {
          "output_type": "stream",
          "name": "stdout",
          "text": [
            "Imagem prevista pelo modelo - sem ruido\n"
          ]
        },
        {
          "output_type": "display_data",
          "data": {
            "text/plain": [
              "<Figure size 1440x288 with 10 Axes>"
            ],
            "image/png": "[encoded data removed]"
          },
          "metadata": {}
        }
      ]
    },
    {
      "cell_type": "markdown",
      "source": [
        ""
      ],
      "metadata": {
        "id": "5tf5JrBJRCoh"
      }
    },
    {
      "cell_type": "markdown",
      "source": [
        "## Se aumentar o numero de épocas de treinamento do modelo, a saida com a imagem prevista deverá ter uma melhora e ficar mais próxima a imagem original."
      ],
      "metadata": {
        "id": "8-1ycZcsPGn9"
      }
    }
  ]
}