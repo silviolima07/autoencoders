{
  "nbformat": 4,
  "nbformat_minor": 0,
  "metadata": {
    "colab": {
      "name": "Autoencoder.ipynb",
      "provenance": [],
      "collapsed_sections": [],
      "authorship_tag": "ABX9TyNPSClJU0cic/qjz8ffY0Ff",
      "include_colab_link": true
    },
    "kernelspec": {
      "name": "python3",
      "display_name": "Python 3"
    },
    "language_info": {
      "name": "python"
    }
  },
  "cells": [
    {
      "cell_type": "markdown",
      "metadata": {
        "id": "view-in-github",
        "colab_type": "text"
      },
      "source": [
        "<a href=\"https://colab.research.google.com/github/silviolima07/autoencoders/blob/main/Autoencoder.ipynb\" target=\"_parent\"><img src=\"https://colab.research.google.com/assets/colab-badge.svg\" alt=\"Open In Colab\"/></a>"
      ]
    },
    {
      "cell_type": "code",
      "execution_count": null,
      "metadata": {
        "id": "J12xkenOAMPS"
      },
      "outputs": [],
      "source": [
        "import pandas as pd\n",
        "import numpy as np\n",
        "import pickle\n",
        "import matplotlib.pyplot as plt\n",
        "import tensorflow as tf\n",
        "import seaborn as sns\n",
        "from sklearn.model_selection import train_test_split\n",
        "from sklearn.preprocessing import StandardScaler\n",
        "from sklearn.metrics import confusion_matrix\n",
        "from tensorflow.keras.models import Model, load_model, Sequential\n",
        "from tensorflow.keras.layers import Input, Dense\n",
        "from tensorflow.keras.callbacks import ModelCheckpoint, TensorBoard"
      ]
    },
    {
      "cell_type": "code",
      "source": [
        "# Este dataset traz dados o registro do sinal ecg obtido em exames de eletrocardiograma. Este exame avalia o batimento cardiaco e pode detectar anomalias no coração."
      ],
      "metadata": {
        "id": "Vj_HpCUapcqA"
      },
      "execution_count": null,
      "outputs": []
    },
    {
      "cell_type": "code",
      "source": [
        "df_ecg = pd.read_csv('https://storage.googleapis.com/download.tensorflow.org/data/ecg.csv', header = None)"
      ],
      "metadata": {
        "id": "asW5SuAkpc13"
      },
      "execution_count": null,
      "outputs": []
    },
    {
      "cell_type": "code",
      "source": [
        "df_ecg.head()"
      ],
      "metadata": {
        "colab": {
          "base_uri": "https://localhost:8080/",
          "height": 300
        },
        "id": "4kiL6iWbp96Y",
        "outputId": "686048ab-34f0-4add-c93f-feac6b4e2346"
      },
      "execution_count": null,
      "outputs": [
        {
          "output_type": "execute_result",
          "data": {
            "text/plain": [
              "        0         1         2         3         4         5         6    \\\n",
              "0 -0.112522 -2.827204 -3.773897 -4.349751 -4.376041 -3.474986 -2.181408   \n",
              "1 -1.100878 -3.996840 -4.285843 -4.506579 -4.022377 -3.234368 -1.566126   \n",
              "2 -0.567088 -2.593450 -3.874230 -4.584095 -4.187449 -3.151462 -1.742940   \n",
              "3  0.490473 -1.914407 -3.616364 -4.318823 -4.268016 -3.881110 -2.993280   \n",
              "4  0.800232 -0.874252 -2.384761 -3.973292 -4.338224 -3.802422 -2.534510   \n",
              "\n",
              "        7         8         9    ...       131       132       133       134  \\\n",
              "0 -1.818286 -1.250522 -0.477492  ...  0.792168  0.933541  0.796958  0.578621   \n",
              "1 -0.992258 -0.754680  0.042321  ...  0.538356  0.656881  0.787490  0.724046   \n",
              "2 -1.490659 -1.183580 -0.394229  ...  0.886073  0.531452  0.311377 -0.021919   \n",
              "3 -1.671131 -1.333884 -0.965629  ...  0.350816  0.499111  0.600345  0.842069   \n",
              "4 -1.783423 -1.594450 -0.753199  ...  1.148884  0.958434  1.059025  1.371682   \n",
              "\n",
              "        135       136       137       138       139  140  \n",
              "0  0.257740  0.228077  0.123431  0.925286  0.193137  1.0  \n",
              "1  0.555784  0.476333  0.773820  1.119621 -1.436250  1.0  \n",
              "2 -0.713683 -0.532197  0.321097  0.904227 -0.421797  1.0  \n",
              "3  0.952074  0.990133  1.086798  1.403011 -0.383564  1.0  \n",
              "4  1.277392  0.960304  0.971020  1.614392  1.421456  1.0  \n",
              "\n",
              "[5 rows x 141 columns]"
            ],
            "text/html": [
              "\n",
              "  <div id=\"df-d583b65f-5c9d-4ac4-9ac7-99f50924738e\">\n",
              "    <div class=\"colab-df-container\">\n",
              "      <div>\n",
              "<style scoped>\n",
              "    .dataframe tbody tr th:only-of-type {\n",
              "        vertical-align: middle;\n",
              "    }\n",
              "\n",
              "    .dataframe tbody tr th {\n",
              "        vertical-align: top;\n",
              "    }\n",
              "\n",
              "    .dataframe thead th {\n",
              "        text-align: right;\n",
              "    }\n",
              "</style>\n",
              "<table border=\"1\" class=\"dataframe\">\n",
              "  <thead>\n",
              "    <tr style=\"text-align: right;\">\n",
              "      <th></th>\n",
              "      <th>0</th>\n",
              "      <th>1</th>\n",
              "      <th>2</th>\n",
              "      <th>3</th>\n",
              "      <th>4</th>\n",
              "      <th>5</th>\n",
              "      <th>6</th>\n",
              "      <th>7</th>\n",
              "      <th>8</th>\n",
              "      <th>9</th>\n",
              "      <th>...</th>\n",
              "      <th>131</th>\n",
              "      <th>132</th>\n",
              "      <th>133</th>\n",
              "      <th>134</th>\n",
              "      <th>135</th>\n",
              "      <th>136</th>\n",
              "      <th>137</th>\n",
              "      <th>138</th>\n",
              "      <th>139</th>\n",
              "      <th>140</th>\n",
              "    </tr>\n",
              "  </thead>\n",
              "  <tbody>\n",
              "    <tr>\n",
              "      <th>0</th>\n",
              "      <td>-0.112522</td>\n",
              "      <td>-2.827204</td>\n",
              "      <td>-3.773897</td>\n",
              "      <td>-4.349751</td>\n",
              "      <td>-4.376041</td>\n",
              "      <td>-3.474986</td>\n",
              "      <td>-2.181408</td>\n",
              "      <td>-1.818286</td>\n",
              "      <td>-1.250522</td>\n",
              "      <td>-0.477492</td>\n",
              "      <td>...</td>\n",
              "      <td>0.792168</td>\n",
              "      <td>0.933541</td>\n",
              "      <td>0.796958</td>\n",
              "      <td>0.578621</td>\n",
              "      <td>0.257740</td>\n",
              "      <td>0.228077</td>\n",
              "      <td>0.123431</td>\n",
              "      <td>0.925286</td>\n",
              "      <td>0.193137</td>\n",
              "      <td>1.0</td>\n",
              "    </tr>\n",
              "    <tr>\n",
              "      <th>1</th>\n",
              "      <td>-1.100878</td>\n",
              "      <td>-3.996840</td>\n",
              "      <td>-4.285843</td>\n",
              "      <td>-4.506579</td>\n",
              "      <td>-4.022377</td>\n",
              "      <td>-3.234368</td>\n",
              "      <td>-1.566126</td>\n",
              "      <td>-0.992258</td>\n",
              "      <td>-0.754680</td>\n",
              "      <td>0.042321</td>\n",
              "      <td>...</td>\n",
              "      <td>0.538356</td>\n",
              "      <td>0.656881</td>\n",
              "      <td>0.787490</td>\n",
              "      <td>0.724046</td>\n",
              "      <td>0.555784</td>\n",
              "      <td>0.476333</td>\n",
              "      <td>0.773820</td>\n",
              "      <td>1.119621</td>\n",
              "      <td>-1.436250</td>\n",
              "      <td>1.0</td>\n",
              "    </tr>\n",
              "    <tr>\n",
              "      <th>2</th>\n",
              "      <td>-0.567088</td>\n",
              "      <td>-2.593450</td>\n",
              "      <td>-3.874230</td>\n",
              "      <td>-4.584095</td>\n",
              "      <td>-4.187449</td>\n",
              "      <td>-3.151462</td>\n",
              "      <td>-1.742940</td>\n",
              "      <td>-1.490659</td>\n",
              "      <td>-1.183580</td>\n",
              "      <td>-0.394229</td>\n",
              "      <td>...</td>\n",
              "      <td>0.886073</td>\n",
              "      <td>0.531452</td>\n",
              "      <td>0.311377</td>\n",
              "      <td>-0.021919</td>\n",
              "      <td>-0.713683</td>\n",
              "      <td>-0.532197</td>\n",
              "      <td>0.321097</td>\n",
              "      <td>0.904227</td>\n",
              "      <td>-0.421797</td>\n",
              "      <td>1.0</td>\n",
              "    </tr>\n",
              "    <tr>\n",
              "      <th>3</th>\n",
              "      <td>0.490473</td>\n",
              "      <td>-1.914407</td>\n",
              "      <td>-3.616364</td>\n",
              "      <td>-4.318823</td>\n",
              "      <td>-4.268016</td>\n",
              "      <td>-3.881110</td>\n",
              "      <td>-2.993280</td>\n",
              "      <td>-1.671131</td>\n",
              "      <td>-1.333884</td>\n",
              "      <td>-0.965629</td>\n",
              "      <td>...</td>\n",
              "      <td>0.350816</td>\n",
              "      <td>0.499111</td>\n",
              "      <td>0.600345</td>\n",
              "      <td>0.842069</td>\n",
              "      <td>0.952074</td>\n",
              "      <td>0.990133</td>\n",
              "      <td>1.086798</td>\n",
              "      <td>1.403011</td>\n",
              "      <td>-0.383564</td>\n",
              "      <td>1.0</td>\n",
              "    </tr>\n",
              "    <tr>\n",
              "      <th>4</th>\n",
              "      <td>0.800232</td>\n",
              "      <td>-0.874252</td>\n",
              "      <td>-2.384761</td>\n",
              "      <td>-3.973292</td>\n",
              "      <td>-4.338224</td>\n",
              "      <td>-3.802422</td>\n",
              "      <td>-2.534510</td>\n",
              "      <td>-1.783423</td>\n",
              "      <td>-1.594450</td>\n",
              "      <td>-0.753199</td>\n",
              "      <td>...</td>\n",
              "      <td>1.148884</td>\n",
              "      <td>0.958434</td>\n",
              "      <td>1.059025</td>\n",
              "      <td>1.371682</td>\n",
              "      <td>1.277392</td>\n",
              "      <td>0.960304</td>\n",
              "      <td>0.971020</td>\n",
              "      <td>1.614392</td>\n",
              "      <td>1.421456</td>\n",
              "      <td>1.0</td>\n",
              "    </tr>\n",
              "  </tbody>\n",
              "</table>\n",
              "<p>5 rows × 141 columns</p>\n",
              "</div>\n",
              "      <button class=\"colab-df-convert\" onclick=\"convertToInteractive('df-d583b65f-5c9d-4ac4-9ac7-99f50924738e')\"\n",
              "              title=\"Convert this dataframe to an interactive table.\"\n",
              "              style=\"display:none;\">\n",
              "        \n",
              "  <svg xmlns=\"http://www.w3.org/2000/svg\" height=\"24px\"viewBox=\"0 0 24 24\"\n",
              "       width=\"24px\">\n",
              "    <path d=\"M0 0h24v24H0V0z\" fill=\"none\"/>\n",
              "    <path d=\"M18.56 5.44l.94 2.06.94-2.06 2.06-.94-2.06-.94-.94-2.06-.94 2.06-2.06.94zm-11 1L8.5 8.5l.94-2.06 2.06-.94-2.06-.94L8.5 2.5l-.94 2.06-2.06.94zm10 10l.94 2.06.94-2.06 2.06-.94-2.06-.94-.94-2.06-.94 2.06-2.06.94z\"/><path d=\"M17.41 7.96l-1.37-1.37c-.4-.4-.92-.59-1.43-.59-.52 0-1.04.2-1.43.59L10.3 9.45l-7.72 7.72c-.78.78-.78 2.05 0 2.83L4 21.41c.39.39.9.59 1.41.59.51 0 1.02-.2 1.41-.59l7.78-7.78 2.81-2.81c.8-.78.8-2.07 0-2.86zM5.41 20L4 18.59l7.72-7.72 1.47 1.35L5.41 20z\"/>\n",
              "  </svg>\n",
              "      </button>\n",
              "      \n",
              "  <style>\n",
              "    .colab-df-container {\n",
              "      display:flex;\n",
              "      flex-wrap:wrap;\n",
              "      gap: 12px;\n",
              "    }\n",
              "\n",
              "    .colab-df-convert {\n",
              "      background-color: #E8F0FE;\n",
              "      border: none;\n",
              "      border-radius: 50%;\n",
              "      cursor: pointer;\n",
              "      display: none;\n",
              "      fill: #1967D2;\n",
              "      height: 32px;\n",
              "      padding: 0 0 0 0;\n",
              "      width: 32px;\n",
              "    }\n",
              "\n",
              "    .colab-df-convert:hover {\n",
              "      background-color: #E2EBFA;\n",
              "      box-shadow: 0px 1px 2px rgba(60, 64, 67, 0.3), 0px 1px 3px 1px rgba(60, 64, 67, 0.15);\n",
              "      fill: #174EA6;\n",
              "    }\n",
              "\n",
              "    [theme=dark] .colab-df-convert {\n",
              "      background-color: #3B4455;\n",
              "      fill: #D2E3FC;\n",
              "    }\n",
              "\n",
              "    [theme=dark] .colab-df-convert:hover {\n",
              "      background-color: #434B5C;\n",
              "      box-shadow: 0px 1px 3px 1px rgba(0, 0, 0, 0.15);\n",
              "      filter: drop-shadow(0px 1px 2px rgba(0, 0, 0, 0.3));\n",
              "      fill: #FFFFFF;\n",
              "    }\n",
              "  </style>\n",
              "\n",
              "      <script>\n",
              "        const buttonEl =\n",
              "          document.querySelector('#df-d583b65f-5c9d-4ac4-9ac7-99f50924738e button.colab-df-convert');\n",
              "        buttonEl.style.display =\n",
              "          google.colab.kernel.accessAllowed ? 'block' : 'none';\n",
              "\n",
              "        async function convertToInteractive(key) {\n",
              "          const element = document.querySelector('#df-d583b65f-5c9d-4ac4-9ac7-99f50924738e');\n",
              "          const dataTable =\n",
              "            await google.colab.kernel.invokeFunction('convertToInteractive',\n",
              "                                                     [key], {});\n",
              "          if (!dataTable) return;\n",
              "\n",
              "          const docLinkHtml = 'Like what you see? Visit the ' +\n",
              "            '<a target=\"_blank\" href=https://colab.research.google.com/notebooks/data_table.ipynb>data table notebook</a>'\n",
              "            + ' to learn more about interactive tables.';\n",
              "          element.innerHTML = '';\n",
              "          dataTable['output_type'] = 'display_data';\n",
              "          await google.colab.output.renderOutput(dataTable, element);\n",
              "          const docLink = document.createElement('div');\n",
              "          docLink.innerHTML = docLinkHtml;\n",
              "          element.appendChild(docLink);\n",
              "        }\n",
              "      </script>\n",
              "    </div>\n",
              "  </div>\n",
              "  "
            ]
          },
          "metadata": {},
          "execution_count": 8
        }
      ]
    },
    {
      "cell_type": "code",
      "source": [
        ""
      ],
      "metadata": {
        "id": "W2mxsjwQp-DO"
      },
      "execution_count": null,
      "outputs": []
    },
    {
      "cell_type": "code",
      "source": [
        "%matplotlib inline\n",
        "sns.set(style='whitegrid')\n",
        " \n",
        "#Read data and do some preprocessing\n",
        "df = pd.read_csv(\"creditcard.csv\")\n",
        " \n",
        "#Time does not help. Delete it\n",
        "df = df.drop(['Time'], axis=1)\n",
        " \n",
        "#Scale Amount only. All other variables are PCA components\n",
        "df['Amount'] = StandardScaler().fit_transform(df['Amount'].values.reshape(-1, 1))\n",
        " \n",
        "#Split in train and test (train contains only 'normal' transactions)\n",
        "df_fraud = df[df['Class']==1]\n",
        "df_normal = df[df['Class']==0]\n",
        "df_normal = df_normal.sample(frac = 1.0).reset_index(drop = True) #Just shuffling\n",
        "df_normal_1 = df_normal.iloc[:int(df_normal.shape[0]*0.8),:] #80% of normal data for training\n",
        "df_normal_2 = df_normal.iloc[int(df_normal.shape[0]*0.8):,:] #20% of normal data to merge with fraudulent (test set)\n",
        " \n",
        "X_test = pd.concat([df_fraud,df_normal_2], axis = 0)\n",
        "X_test = X_test.sample(frac = 1.0).reset_index(drop = True) #Just shuffling\n",
        " \n",
        "#Separate in input and target variables\n",
        "X_train = df_normal_1[df_normal_1['Class'] == 0]\n",
        "X_train = X_train.drop(['Class'], axis=1)\n",
        " \n",
        "y_test = X_test['Class']\n",
        "X_test = X_test.drop(['Class'], axis=1)"
      ],
      "metadata": {
        "id": "j-DEqe4ABZT3"
      },
      "execution_count": null,
      "outputs": []
    },
    {
      "cell_type": "code",
      "source": [
        "df_normal.shape"
      ],
      "metadata": {
        "colab": {
          "base_uri": "https://localhost:8080/"
        },
        "id": "aPGRLg-wOfqO",
        "outputId": "5c4bbc92-28ea-42bb-fd26-272bc9cc21c4"
      },
      "execution_count": null,
      "outputs": [
        {
          "output_type": "execute_result",
          "data": {
            "text/plain": [
              "(3970, 30)"
            ]
          },
          "metadata": {},
          "execution_count": 10
        }
      ]
    },
    {
      "cell_type": "code",
      "source": [
        "df_normal.iloc[0,:]"
      ],
      "metadata": {
        "colab": {
          "base_uri": "https://localhost:8080/"
        },
        "id": "GpGW5r1JQF0Y",
        "outputId": "8ab94bea-8c90-413b-c6dc-2c2e255796c1"
      },
      "execution_count": null,
      "outputs": [
        {
          "output_type": "execute_result",
          "data": {
            "text/plain": [
              "V1       -0.349248\n",
              "V2        0.503362\n",
              "V3        0.503871\n",
              "V4       -2.509402\n",
              "V5        0.988556\n",
              "V6        0.044428\n",
              "V7        0.895082\n",
              "V8       -0.012519\n",
              "V9        0.817473\n",
              "V10      -0.993112\n",
              "V11       0.189010\n",
              "V12       0.008204\n",
              "V13      -1.100593\n",
              "V14       0.425618\n",
              "V15       0.646140\n",
              "V16      -0.232741\n",
              "V17      -0.978951\n",
              "V18       0.657313\n",
              "V19       0.349225\n",
              "V20      -0.011709\n",
              "V21       0.038657\n",
              "V22       0.447801\n",
              "V23      -0.434843\n",
              "V24      -1.364113\n",
              "V25       0.117276\n",
              "V26      -0.739460\n",
              "V27       0.243098\n",
              "V28      -0.043248\n",
              "Amount   -0.299540\n",
              "Class     0.000000\n",
              "Name: 0, dtype: float64"
            ]
          },
          "metadata": {},
          "execution_count": 11
        }
      ]
    },
    {
      "cell_type": "code",
      "source": [
        "plt.plot(np.arange(30),df_normal.iloc[0,:])\n",
        "plt.grid()\n",
        "plt.title(\"Normal\")\n",
        "plt.show()"
      ],
      "metadata": {
        "colab": {
          "base_uri": "https://localhost:8080/",
          "height": 284
        },
        "id": "bBIQ7MC4ENjI",
        "outputId": "0874373b-7cb8-43e6-893d-9c44b05bc364"
      },
      "execution_count": null,
      "outputs": [
        {
          "output_type": "display_data",
          "data": {
            "text/plain": [
              "<Figure size 432x288 with 1 Axes>"
            ],
            "image/png": "[encoded data removed]"
          },
          "metadata": {}
        }
      ]
    },
    {
      "cell_type": "code",
      "source": [
        "df_fraud.iloc[0,:]"
      ],
      "metadata": {
        "colab": {
          "base_uri": "https://localhost:8080/"
        },
        "id": "1FQ5GI7dQNSW",
        "outputId": "4b6546e2-f462-48e9-cdc7-c425ecdc35b9"
      },
      "execution_count": null,
      "outputs": [
        {
          "output_type": "execute_result",
          "data": {
            "text/plain": [
              "V1       -2.312227\n",
              "V2        1.951992\n",
              "V3       -1.609851\n",
              "V4        3.997906\n",
              "V5       -0.522188\n",
              "V6       -1.426545\n",
              "V7       -2.537387\n",
              "V8        1.391657\n",
              "V9       -2.770089\n",
              "V10      -2.772272\n",
              "V11       3.202033\n",
              "V12      -2.899907\n",
              "V13      -0.595222\n",
              "V14      -4.289254\n",
              "V15       0.389724\n",
              "V16      -1.140747\n",
              "V17      -2.830056\n",
              "V18      -0.016822\n",
              "V19       0.416956\n",
              "V20       0.126911\n",
              "V21       0.517232\n",
              "V22      -0.035049\n",
              "V23      -0.465211\n",
              "V24       0.320198\n",
              "V25       0.044519\n",
              "V26       0.177840\n",
              "V27       0.261145\n",
              "V28      -0.143276\n",
              "Amount   -0.304220\n",
              "Class     1.000000\n",
              "Name: 541, dtype: float64"
            ]
          },
          "metadata": {},
          "execution_count": 13
        }
      ]
    },
    {
      "cell_type": "code",
      "source": [
        "plt.plot(df_fraud.iloc[0,:])\n",
        "plt.grid()\n",
        "plt.title(\"Fraud\")\n",
        "plt.show()"
      ],
      "metadata": {
        "colab": {
          "base_uri": "https://localhost:8080/",
          "height": 284
        },
        "id": "ObyJYJvuHJts",
        "outputId": "374b09d3-96ca-4422-fd16-197f9e27e2f0"
      },
      "execution_count": null,
      "outputs": [
        {
          "output_type": "display_data",
          "data": {
            "text/plain": [
              "<Figure size 432x288 with 1 Axes>"
            ],
            "image/png": "[encoded data removed]"
          },
          "metadata": {}
        }
      ]
    },
    {
      "cell_type": "code",
      "source": [
        "#Build the Neural Network\n",
        "input_dim = X_train.shape[1]\n",
        " \n",
        "model = Sequential()\n",
        "model.add(Dense(29,input_dim = input_dim, activation=\"relu\"))\n",
        "model.add(Dense(14, activation=\"relu\"))\n",
        "model.add(Dense(7, activation=\"relu\"))\n",
        "model.add(Dense(14, activation=\"relu\"))\n",
        "model.add(Dense(input_dim, activation=\"sigmoid\"))\n",
        "model.compile(optimizer='adam', loss='mean_squared_error', metrics=['accuracy'])\n",
        " \n",
        "#Check the architecture of the autoencoder\n",
        "model.summary()"
      ],
      "metadata": {
        "colab": {
          "base_uri": "https://localhost:8080/"
        },
        "id": "-kXE68bxBZdm",
        "outputId": "f48776b4-882b-4144-a209-fe2162579cbc"
      },
      "execution_count": null,
      "outputs": [
        {
          "output_type": "stream",
          "name": "stdout",
          "text": [
            "Model: \"sequential\"\n",
            "_________________________________________________________________\n",
            " Layer (type)                Output Shape              Param #   \n",
            "=================================================================\n",
            " dense (Dense)               (None, 29)                870       \n",
            "                                                                 \n",
            " dense_1 (Dense)             (None, 14)                420       \n",
            "                                                                 \n",
            " dense_2 (Dense)             (None, 7)                 105       \n",
            "                                                                 \n",
            " dense_3 (Dense)             (None, 14)                112       \n",
            "                                                                 \n",
            " dense_4 (Dense)             (None, 29)                435       \n",
            "                                                                 \n",
            "=================================================================\n",
            "Total params: 1,942\n",
            "Trainable params: 1,942\n",
            "Non-trainable params: 0\n",
            "_________________________________________________________________\n"
          ]
        }
      ]
    },
    {
      "cell_type": "code",
      "source": [
        "#Fit the autoencoder and check loss for train and test\n",
        "checkpointer = ModelCheckpoint(filepath=\"nae.h5\", verbose=0, save_best_only=True)\n",
        " \n",
        "#Save history to plot learning curves\n",
        "history = model.fit(X_train, X_train,\n",
        "epochs=100,\n",
        "batch_size=32,\n",
        "shuffle=True,\n",
        "validation_data=(X_test, X_test),\n",
        "verbose=1,\n",
        "callbacks=[checkpointer]).history\n",
        " \n",
        "autoencoder = load_model('nae.h5')\n",
        " \n",
        "#Plot losses\n",
        "plt.plot(history['loss'])\n",
        "plt.plot(history['val_loss'])\n",
        "plt.title('model loss')\n",
        "plt.ylabel('loss')\n",
        "plt.xlabel('epoch')\n",
        "plt.legend(['train', 'test'], loc='upper right')"
      ],
      "metadata": {
        "colab": {
          "base_uri": "https://localhost:8080/"
        },
        "id": "h6oeYcBsElOa",
        "outputId": "7e7c3c0e-6748-4707-9f69-a18a1de22e09"
      },
      "execution_count": null,
      "outputs": [
        {
          "output_type": "stream",
          "name": "stdout",
          "text": [
            "Epoch 1/100\n",
            "100/100 [==============================] - 1s 5ms/step - loss: 1.0134 - accuracy: 0.1527 - val_loss: 0.8194 - val_accuracy: 0.2550\n",
            "Epoch 2/100\n",
            "100/100 [==============================] - 0s 3ms/step - loss: 0.8257 - accuracy: 0.2390 - val_loss: 0.7335 - val_accuracy: 0.2977\n",
            "Epoch 3/100\n",
            "100/100 [==============================] - 0s 2ms/step - loss: 0.7883 - accuracy: 0.3366 - val_loss: 0.7102 - val_accuracy: 0.3781\n",
            "Epoch 4/100\n",
            "100/100 [==============================] - 0s 3ms/step - loss: 0.7598 - accuracy: 0.3778 - val_loss: 0.6808 - val_accuracy: 0.4133\n",
            "Epoch 5/100\n",
            "100/100 [==============================] - 0s 3ms/step - loss: 0.7354 - accuracy: 0.4096 - val_loss: 0.6638 - val_accuracy: 0.4083\n",
            "Epoch 6/100\n",
            "100/100 [==============================] - 1s 6ms/step - loss: 0.7234 - accuracy: 0.4219 - val_loss: 0.6555 - val_accuracy: 0.4196\n",
            "Epoch 7/100\n",
            "100/100 [==============================] - 1s 7ms/step - loss: 0.7158 - accuracy: 0.4348 - val_loss: 0.6495 - val_accuracy: 0.4472\n",
            "Epoch 8/100\n",
            "100/100 [==============================] - 0s 4ms/step - loss: 0.7109 - accuracy: 0.4477 - val_loss: 0.6448 - val_accuracy: 0.4698\n",
            "Epoch 9/100\n",
            "100/100 [==============================] - 1s 6ms/step - loss: 0.7058 - accuracy: 0.4824 - val_loss: 0.6410 - val_accuracy: 0.5101\n",
            "Epoch 10/100\n",
            "100/100 [==============================] - 1s 8ms/step - loss: 0.7019 - accuracy: 0.5072 - val_loss: 0.6372 - val_accuracy: 0.5226\n",
            "Epoch 11/100\n",
            "100/100 [==============================] - 0s 3ms/step - loss: 0.6985 - accuracy: 0.5098 - val_loss: 0.6354 - val_accuracy: 0.5138\n",
            "Epoch 12/100\n",
            "100/100 [==============================] - 1s 6ms/step - loss: 0.6960 - accuracy: 0.5085 - val_loss: 0.6341 - val_accuracy: 0.5088\n",
            "Epoch 13/100\n",
            "100/100 [==============================] - 1s 7ms/step - loss: 0.6947 - accuracy: 0.5123 - val_loss: 0.6330 - val_accuracy: 0.5038\n",
            "Epoch 14/100\n",
            "100/100 [==============================] - 0s 3ms/step - loss: 0.6933 - accuracy: 0.5063 - val_loss: 0.6320 - val_accuracy: 0.5214\n",
            "Epoch 15/100\n",
            "100/100 [==============================] - 0s 2ms/step - loss: 0.6922 - accuracy: 0.5047 - val_loss: 0.6307 - val_accuracy: 0.5188\n",
            "Epoch 16/100\n",
            "100/100 [==============================] - 0s 3ms/step - loss: 0.6913 - accuracy: 0.5126 - val_loss: 0.6296 - val_accuracy: 0.5038\n",
            "Epoch 17/100\n",
            "100/100 [==============================] - 0s 2ms/step - loss: 0.6904 - accuracy: 0.5120 - val_loss: 0.6293 - val_accuracy: 0.4987\n",
            "Epoch 18/100\n",
            "100/100 [==============================] - 0s 2ms/step - loss: 0.6895 - accuracy: 0.5054 - val_loss: 0.6280 - val_accuracy: 0.5088\n",
            "Epoch 19/100\n",
            "100/100 [==============================] - 0s 2ms/step - loss: 0.6886 - accuracy: 0.5035 - val_loss: 0.6273 - val_accuracy: 0.5163\n",
            "Epoch 20/100\n",
            "100/100 [==============================] - 0s 3ms/step - loss: 0.6877 - accuracy: 0.5044 - val_loss: 0.6268 - val_accuracy: 0.4962\n",
            "Epoch 21/100\n",
            "100/100 [==============================] - 0s 3ms/step - loss: 0.6872 - accuracy: 0.5006 - val_loss: 0.6267 - val_accuracy: 0.5088\n",
            "Epoch 22/100\n",
            "100/100 [==============================] - 0s 3ms/step - loss: 0.6866 - accuracy: 0.4987 - val_loss: 0.6263 - val_accuracy: 0.4937\n",
            "Epoch 23/100\n",
            "100/100 [==============================] - 0s 2ms/step - loss: 0.6862 - accuracy: 0.4962 - val_loss: 0.6254 - val_accuracy: 0.4937\n",
            "Epoch 24/100\n",
            "100/100 [==============================] - 0s 3ms/step - loss: 0.6858 - accuracy: 0.4978 - val_loss: 0.6252 - val_accuracy: 0.5063\n",
            "Epoch 25/100\n",
            "100/100 [==============================] - 0s 2ms/step - loss: 0.6853 - accuracy: 0.4912 - val_loss: 0.6246 - val_accuracy: 0.4899\n",
            "Epoch 26/100\n",
            "100/100 [==============================] - 0s 3ms/step - loss: 0.6849 - accuracy: 0.4953 - val_loss: 0.6245 - val_accuracy: 0.4874\n",
            "Epoch 27/100\n",
            "100/100 [==============================] - 0s 2ms/step - loss: 0.6847 - accuracy: 0.4902 - val_loss: 0.6246 - val_accuracy: 0.5000\n",
            "Epoch 28/100\n",
            "100/100 [==============================] - 0s 2ms/step - loss: 0.6842 - accuracy: 0.4880 - val_loss: 0.6240 - val_accuracy: 0.4987\n",
            "Epoch 29/100\n",
            "100/100 [==============================] - 0s 2ms/step - loss: 0.6839 - accuracy: 0.4962 - val_loss: 0.6234 - val_accuracy: 0.5075\n",
            "Epoch 30/100\n",
            "100/100 [==============================] - 0s 2ms/step - loss: 0.6835 - accuracy: 0.4962 - val_loss: 0.6236 - val_accuracy: 0.4937\n",
            "Epoch 31/100\n",
            "100/100 [==============================] - 0s 2ms/step - loss: 0.6832 - accuracy: 0.4890 - val_loss: 0.6234 - val_accuracy: 0.4849\n",
            "Epoch 32/100\n",
            "100/100 [==============================] - 0s 2ms/step - loss: 0.6827 - accuracy: 0.4893 - val_loss: 0.6226 - val_accuracy: 0.4912\n",
            "Epoch 33/100\n",
            "100/100 [==============================] - 0s 3ms/step - loss: 0.6821 - accuracy: 0.4972 - val_loss: 0.6221 - val_accuracy: 0.4736\n",
            "Epoch 34/100\n",
            "100/100 [==============================] - 0s 2ms/step - loss: 0.6814 - accuracy: 0.4987 - val_loss: 0.6212 - val_accuracy: 0.4912\n",
            "Epoch 35/100\n",
            "100/100 [==============================] - 0s 2ms/step - loss: 0.6805 - accuracy: 0.5066 - val_loss: 0.6202 - val_accuracy: 0.4887\n",
            "Epoch 36/100\n",
            "100/100 [==============================] - 0s 2ms/step - loss: 0.6794 - accuracy: 0.5063 - val_loss: 0.6190 - val_accuracy: 0.4925\n",
            "Epoch 37/100\n",
            "100/100 [==============================] - 0s 2ms/step - loss: 0.6785 - accuracy: 0.5069 - val_loss: 0.6189 - val_accuracy: 0.5038\n",
            "Epoch 38/100\n",
            "100/100 [==============================] - 0s 2ms/step - loss: 0.6773 - accuracy: 0.5132 - val_loss: 0.6187 - val_accuracy: 0.4962\n",
            "Epoch 39/100\n",
            "100/100 [==============================] - 0s 2ms/step - loss: 0.6768 - accuracy: 0.5110 - val_loss: 0.6187 - val_accuracy: 0.4887\n",
            "Epoch 40/100\n",
            "100/100 [==============================] - 0s 2ms/step - loss: 0.6765 - accuracy: 0.5113 - val_loss: 0.6175 - val_accuracy: 0.4862\n",
            "Epoch 41/100\n",
            "100/100 [==============================] - 0s 3ms/step - loss: 0.6760 - accuracy: 0.5148 - val_loss: 0.6176 - val_accuracy: 0.5025\n",
            "Epoch 42/100\n",
            "100/100 [==============================] - 0s 2ms/step - loss: 0.6753 - accuracy: 0.5205 - val_loss: 0.6165 - val_accuracy: 0.4899\n",
            "Epoch 43/100\n",
            "100/100 [==============================] - 0s 3ms/step - loss: 0.6748 - accuracy: 0.5126 - val_loss: 0.6153 - val_accuracy: 0.4950\n",
            "Epoch 44/100\n",
            "100/100 [==============================] - 0s 3ms/step - loss: 0.6746 - accuracy: 0.5208 - val_loss: 0.6145 - val_accuracy: 0.4962\n",
            "Epoch 45/100\n",
            "100/100 [==============================] - 0s 3ms/step - loss: 0.6740 - accuracy: 0.5239 - val_loss: 0.6140 - val_accuracy: 0.5013\n",
            "Epoch 46/100\n",
            "100/100 [==============================] - 0s 2ms/step - loss: 0.6735 - accuracy: 0.5239 - val_loss: 0.6136 - val_accuracy: 0.5101\n",
            "Epoch 47/100\n",
            "100/100 [==============================] - 0s 3ms/step - loss: 0.6734 - accuracy: 0.5309 - val_loss: 0.6134 - val_accuracy: 0.5163\n",
            "Epoch 48/100\n",
            "100/100 [==============================] - 0s 3ms/step - loss: 0.6728 - accuracy: 0.5290 - val_loss: 0.6132 - val_accuracy: 0.5101\n",
            "Epoch 49/100\n",
            "100/100 [==============================] - 0s 2ms/step - loss: 0.6725 - accuracy: 0.5315 - val_loss: 0.6130 - val_accuracy: 0.5063\n",
            "Epoch 50/100\n",
            "100/100 [==============================] - 0s 2ms/step - loss: 0.6724 - accuracy: 0.5315 - val_loss: 0.6128 - val_accuracy: 0.5075\n",
            "Epoch 51/100\n",
            "100/100 [==============================] - 0s 2ms/step - loss: 0.6723 - accuracy: 0.5412 - val_loss: 0.6129 - val_accuracy: 0.5151\n",
            "Epoch 52/100\n",
            "100/100 [==============================] - 0s 3ms/step - loss: 0.6728 - accuracy: 0.5343 - val_loss: 0.6150 - val_accuracy: 0.4661\n",
            "Epoch 53/100\n",
            "100/100 [==============================] - 0s 3ms/step - loss: 0.6735 - accuracy: 0.5419 - val_loss: 0.6121 - val_accuracy: 0.5389\n",
            "Epoch 54/100\n",
            "100/100 [==============================] - 0s 3ms/step - loss: 0.6724 - accuracy: 0.5491 - val_loss: 0.6118 - val_accuracy: 0.5289\n",
            "Epoch 55/100\n",
            "100/100 [==============================] - 0s 3ms/step - loss: 0.6721 - accuracy: 0.5453 - val_loss: 0.6118 - val_accuracy: 0.5314\n",
            "Epoch 56/100\n",
            "100/100 [==============================] - 0s 3ms/step - loss: 0.6718 - accuracy: 0.5416 - val_loss: 0.6117 - val_accuracy: 0.5176\n",
            "Epoch 57/100\n",
            "100/100 [==============================] - 0s 3ms/step - loss: 0.6716 - accuracy: 0.5412 - val_loss: 0.6114 - val_accuracy: 0.5063\n",
            "Epoch 58/100\n",
            "100/100 [==============================] - 0s 3ms/step - loss: 0.6712 - accuracy: 0.5372 - val_loss: 0.6114 - val_accuracy: 0.5113\n",
            "Epoch 59/100\n",
            "100/100 [==============================] - 0s 2ms/step - loss: 0.6710 - accuracy: 0.5356 - val_loss: 0.6109 - val_accuracy: 0.4912\n",
            "Epoch 60/100\n",
            "100/100 [==============================] - 0s 3ms/step - loss: 0.6708 - accuracy: 0.5327 - val_loss: 0.6105 - val_accuracy: 0.5025\n",
            "Epoch 61/100\n",
            "100/100 [==============================] - 0s 3ms/step - loss: 0.6712 - accuracy: 0.5312 - val_loss: 0.6129 - val_accuracy: 0.5264\n",
            "Epoch 62/100\n",
            "100/100 [==============================] - 0s 3ms/step - loss: 0.6714 - accuracy: 0.5346 - val_loss: 0.6106 - val_accuracy: 0.5239\n",
            "Epoch 63/100\n",
            "100/100 [==============================] - 0s 2ms/step - loss: 0.6704 - accuracy: 0.5384 - val_loss: 0.6104 - val_accuracy: 0.5038\n",
            "Epoch 64/100\n",
            "100/100 [==============================] - 0s 2ms/step - loss: 0.6701 - accuracy: 0.5321 - val_loss: 0.6098 - val_accuracy: 0.5138\n",
            "Epoch 65/100\n",
            "100/100 [==============================] - 0s 3ms/step - loss: 0.6699 - accuracy: 0.5368 - val_loss: 0.6096 - val_accuracy: 0.5101\n",
            "Epoch 66/100\n",
            "100/100 [==============================] - 0s 3ms/step - loss: 0.6691 - accuracy: 0.5315 - val_loss: 0.6089 - val_accuracy: 0.5214\n",
            "Epoch 67/100\n",
            "100/100 [==============================] - 0s 3ms/step - loss: 0.6689 - accuracy: 0.5324 - val_loss: 0.6091 - val_accuracy: 0.5163\n",
            "Epoch 68/100\n",
            "100/100 [==============================] - 0s 2ms/step - loss: 0.6688 - accuracy: 0.5299 - val_loss: 0.6090 - val_accuracy: 0.5239\n",
            "Epoch 69/100\n",
            "100/100 [==============================] - 0s 3ms/step - loss: 0.6686 - accuracy: 0.5394 - val_loss: 0.6085 - val_accuracy: 0.5088\n",
            "Epoch 70/100\n",
            "100/100 [==============================] - 0s 3ms/step - loss: 0.6683 - accuracy: 0.5290 - val_loss: 0.6085 - val_accuracy: 0.5327\n",
            "Epoch 71/100\n",
            "100/100 [==============================] - 0s 2ms/step - loss: 0.6683 - accuracy: 0.5261 - val_loss: 0.6083 - val_accuracy: 0.5188\n",
            "Epoch 72/100\n",
            "100/100 [==============================] - 0s 3ms/step - loss: 0.6685 - accuracy: 0.5249 - val_loss: 0.6087 - val_accuracy: 0.5264\n",
            "Epoch 73/100\n",
            "100/100 [==============================] - 0s 2ms/step - loss: 0.6680 - accuracy: 0.5239 - val_loss: 0.6080 - val_accuracy: 0.5163\n",
            "Epoch 74/100\n",
            "100/100 [==============================] - 0s 2ms/step - loss: 0.6676 - accuracy: 0.5255 - val_loss: 0.6084 - val_accuracy: 0.5289\n",
            "Epoch 75/100\n",
            "100/100 [==============================] - 0s 3ms/step - loss: 0.6676 - accuracy: 0.5365 - val_loss: 0.6079 - val_accuracy: 0.5113\n",
            "Epoch 76/100\n",
            "100/100 [==============================] - 0s 3ms/step - loss: 0.6674 - accuracy: 0.5227 - val_loss: 0.6083 - val_accuracy: 0.5188\n",
            "Epoch 77/100\n",
            "100/100 [==============================] - 0s 3ms/step - loss: 0.6673 - accuracy: 0.5252 - val_loss: 0.6078 - val_accuracy: 0.5239\n",
            "Epoch 78/100\n",
            "100/100 [==============================] - 0s 2ms/step - loss: 0.6671 - accuracy: 0.5372 - val_loss: 0.6078 - val_accuracy: 0.5264\n",
            "Epoch 79/100\n",
            "100/100 [==============================] - 0s 2ms/step - loss: 0.6671 - accuracy: 0.5296 - val_loss: 0.6079 - val_accuracy: 0.5063\n",
            "Epoch 80/100\n",
            "100/100 [==============================] - 0s 2ms/step - loss: 0.6670 - accuracy: 0.5359 - val_loss: 0.6079 - val_accuracy: 0.5188\n",
            "Epoch 81/100\n",
            "100/100 [==============================] - 0s 3ms/step - loss: 0.6669 - accuracy: 0.5362 - val_loss: 0.6082 - val_accuracy: 0.5352\n",
            "Epoch 82/100\n",
            "100/100 [==============================] - 0s 3ms/step - loss: 0.6668 - accuracy: 0.5337 - val_loss: 0.6073 - val_accuracy: 0.5364\n",
            "Epoch 83/100\n",
            "100/100 [==============================] - 0s 3ms/step - loss: 0.6666 - accuracy: 0.5346 - val_loss: 0.6075 - val_accuracy: 0.5226\n",
            "Epoch 84/100\n",
            "100/100 [==============================] - 0s 2ms/step - loss: 0.6666 - accuracy: 0.5249 - val_loss: 0.6072 - val_accuracy: 0.5276\n",
            "Epoch 85/100\n",
            "100/100 [==============================] - 0s 2ms/step - loss: 0.6663 - accuracy: 0.5315 - val_loss: 0.6064 - val_accuracy: 0.5138\n",
            "Epoch 86/100\n",
            "100/100 [==============================] - 0s 2ms/step - loss: 0.6660 - accuracy: 0.5220 - val_loss: 0.6061 - val_accuracy: 0.5214\n",
            "Epoch 87/100\n",
            "100/100 [==============================] - 0s 3ms/step - loss: 0.6655 - accuracy: 0.5220 - val_loss: 0.6062 - val_accuracy: 0.5101\n",
            "Epoch 88/100\n",
            "100/100 [==============================] - 0s 3ms/step - loss: 0.6652 - accuracy: 0.5258 - val_loss: 0.6060 - val_accuracy: 0.5176\n",
            "Epoch 89/100\n",
            "100/100 [==============================] - 0s 3ms/step - loss: 0.6650 - accuracy: 0.5179 - val_loss: 0.6061 - val_accuracy: 0.5251\n",
            "Epoch 90/100\n",
            "100/100 [==============================] - 0s 3ms/step - loss: 0.6649 - accuracy: 0.5296 - val_loss: 0.6055 - val_accuracy: 0.5188\n",
            "Epoch 91/100\n",
            "100/100 [==============================] - 0s 3ms/step - loss: 0.6646 - accuracy: 0.5179 - val_loss: 0.6049 - val_accuracy: 0.5327\n",
            "Epoch 92/100\n",
            "100/100 [==============================] - 0s 2ms/step - loss: 0.6645 - accuracy: 0.5242 - val_loss: 0.6056 - val_accuracy: 0.5113\n",
            "Epoch 93/100\n",
            "100/100 [==============================] - 0s 2ms/step - loss: 0.6643 - accuracy: 0.5315 - val_loss: 0.6049 - val_accuracy: 0.5302\n",
            "Epoch 94/100\n",
            "100/100 [==============================] - 0s 2ms/step - loss: 0.6641 - accuracy: 0.5268 - val_loss: 0.6050 - val_accuracy: 0.5302\n",
            "Epoch 95/100\n",
            "100/100 [==============================] - 0s 2ms/step - loss: 0.6640 - accuracy: 0.5293 - val_loss: 0.6050 - val_accuracy: 0.5226\n",
            "Epoch 96/100\n",
            "100/100 [==============================] - 0s 3ms/step - loss: 0.6640 - accuracy: 0.5296 - val_loss: 0.6047 - val_accuracy: 0.5276\n",
            "Epoch 97/100\n",
            "100/100 [==============================] - 0s 2ms/step - loss: 0.6637 - accuracy: 0.5183 - val_loss: 0.6044 - val_accuracy: 0.5138\n",
            "Epoch 98/100\n",
            "100/100 [==============================] - 0s 3ms/step - loss: 0.6632 - accuracy: 0.5309 - val_loss: 0.6040 - val_accuracy: 0.4950\n",
            "Epoch 99/100\n",
            "100/100 [==============================] - 0s 2ms/step - loss: 0.6628 - accuracy: 0.5280 - val_loss: 0.6035 - val_accuracy: 0.5075\n",
            "Epoch 100/100\n",
            "100/100 [==============================] - 0s 3ms/step - loss: 0.6626 - accuracy: 0.5236 - val_loss: 0.6037 - val_accuracy: 0.5113\n"
          ]
        },
        {
          "output_type": "execute_result",
          "data": {
            "text/plain": [
              "<matplotlib.legend.Legend at 0x7f77b7130590>"
            ]
          },
          "metadata": {},
          "execution_count": 16
        },
        {
          "output_type": "display_data",
          "data": {
            "text/plain": [
              "<Figure size 432x288 with 1 Axes>"
            ],
            "image/png": "[encoded data removed]"
          },
          "metadata": {}
        }
      ]
    },
    {
      "cell_type": "code",
      "source": [
        "#Predict on test set\n",
        "predictions = model.predict(X_test)\n",
        " \n",
        "mse = np.mean(np.power(X_test - predictions, 2), axis=1)\n",
        "error_df = pd.DataFrame({'mse': mse,\n",
        "'fraud': y_test})\n",
        " \n",
        "#Set an error threshold above which a transaction is considered fraud\n",
        "threshold = 4.5\n",
        "error_df['pred_01'] = [1 if e > threshold else 0 for e in error_df['mse'].values]\n",
        "conf_mat = confusion_matrix(error_df['fraud'], error_df['pred_01'])\n",
        " \n",
        "#Print confusion matrix for the given threshold\n",
        "ax= plt.subplot()\n",
        "sns.heatmap(conf_mat, annot=True, fmt=\"g\", cmap=\"YlGnBu\")\n",
        " \n",
        "# labels, title and ticks\n",
        "ax.set_xlabel('Predicted labels');ax.set_ylabel('True labels');\n",
        "ax.set_title('Confusion Matrix');\n",
        "ax.set_ylim([0,2])\n",
        "ax.xaxis.set_ticklabels([\"Normal\", \"Fraud\"]); ax.yaxis.set_ticklabels([\"Normal\", \"Fraud\"])\n"
      ],
      "metadata": {
        "colab": {
          "base_uri": "https://localhost:8080/"
        },
        "id": "bzIFpG-ZMFtX",
        "outputId": "87d5efb6-ece2-4a61-c5c6-596cf4d0c6aa"
      },
      "execution_count": null,
      "outputs": [
        {
          "output_type": "execute_result",
          "data": {
            "text/plain": [
              "[Text(0, 0.5, 'Normal'), Text(0, 1.5, 'Fraud')]"
            ]
          },
          "metadata": {},
          "execution_count": 17
        },
        {
          "output_type": "display_data",
          "data": {
            "text/plain": [
              "<Figure size 432x288 with 2 Axes>"
            ],
            "image/png": "[encoded data removed]"
          },
          "metadata": {}
        }
      ]
    },
    {
      "cell_type": "code",
      "source": [
        ""
      ],
      "metadata": {
        "id": "3s-Mh6PqqU9w"
      },
      "execution_count": null,
      "outputs": []
    },
    {
      "cell_type": "code",
      "source": [
        "dados = df_ecg.iloc[:,:-1].values # Pega os dados em cada linha até a penultima coluna, na forma de array.\n",
        "labels = df_ecg.iloc[:,-1].values"
      ],
      "metadata": {
        "id": "qlBtiirCqVIU"
      },
      "execution_count": null,
      "outputs": []
    },
    {
      "cell_type": "code",
      "source": [
        "labels"
      ],
      "metadata": {
        "colab": {
          "base_uri": "https://localhost:8080/"
        },
        "id": "jbJ0fTCkqf01",
        "outputId": "c87616cc-9117-4841-c565-a86d73fd5055"
      },
      "execution_count": null,
      "outputs": [
        {
          "output_type": "execute_result",
          "data": {
            "text/plain": [
              "array([1., 1., 1., ..., 0., 0., 0.])"
            ]
          },
          "metadata": {},
          "execution_count": 19
        }
      ]
    },
    {
      "cell_type": "code",
      "source": [
        "dados_treino, dados_teste, labels_treino, labels_teste = train_test_split(dados, labels, test_size = 0.2, random_state = 2)"
      ],
      "metadata": {
        "id": "FQoJNmQbrPrk"
      },
      "execution_count": null,
      "outputs": []
    },
    {
      "cell_type": "code",
      "source": [
        "min = tf.reduce_min(dados_treino)\n",
        "max = tf.reduce_max(dados_treino)"
      ],
      "metadata": {
        "id": "9cFgi3fKsR2P"
      },
      "execution_count": null,
      "outputs": []
    },
    {
      "cell_type": "code",
      "source": [
        "dados_treino = (dados_treino - min)/(max - min)\n",
        "dados_teste = (dados_teste - min) / (max - min)"
      ],
      "metadata": {
        "id": "2XJnhPI9sgEH"
      },
      "execution_count": null,
      "outputs": []
    },
    {
      "cell_type": "code",
      "source": [
        "dados_treino"
      ],
      "metadata": {
        "colab": {
          "base_uri": "https://localhost:8080/"
        },
        "id": "mdOb0m2NsulP",
        "outputId": "556b88be-40c7-4add-de24-bbcf93512393"
      },
      "execution_count": null,
      "outputs": [
        {
          "output_type": "execute_result",
          "data": {
            "text/plain": [
              "<tf.Tensor: shape=(3998, 140), dtype=float64, numpy=\n",
              "array([[0.63417299, 0.60144   , 0.56492947, ..., 0.24180697, 0.27333807,\n",
              "        0.419205  ],\n",
              "       [0.68348344, 0.53079511, 0.30631429, ..., 0.65009293, 0.68153161,\n",
              "        0.58446075],\n",
              "       [0.44795084, 0.37356573, 0.3282699 , ..., 0.41549221, 0.38023082,\n",
              "        0.35814732],\n",
              "       ...,\n",
              "       [0.51207502, 0.39628231, 0.33170974, ..., 0.72241414, 0.75635135,\n",
              "        0.70404592],\n",
              "       [0.64585082, 0.56747889, 0.50753806, ..., 0.43371981, 0.50302426,\n",
              "        0.6156047 ],\n",
              "       [0.51127771, 0.40041333, 0.37825678, ..., 0.44149792, 0.40077225,\n",
              "        0.26994847]])>"
            ]
          },
          "metadata": {},
          "execution_count": 23
        }
      ]
    },
    {
      "cell_type": "code",
      "source": [
        "dados_teste"
      ],
      "metadata": {
        "colab": {
          "base_uri": "https://localhost:8080/"
        },
        "id": "TtaWTbjeulhT",
        "outputId": "481097e1-869f-4926-864c-8d8c7417458e"
      },
      "execution_count": null,
      "outputs": [
        {
          "output_type": "execute_result",
          "data": {
            "text/plain": [
              "<tf.Tensor: shape=(1000, 140), dtype=float64, numpy=\n",
              "array([[0.52194023, 0.3083143 , 0.23954641, ..., 0.57696192, 0.55615623,\n",
              "        0.36177862],\n",
              "       [0.55687724, 0.37153055, 0.28143267, ..., 0.71556205, 0.76727773,\n",
              "        0.65777286],\n",
              "       [0.6021764 , 0.49890084, 0.41482644, ..., 0.28668782, 0.34099053,\n",
              "        0.4753087 ],\n",
              "       ...,\n",
              "       [0.50556871, 0.24759823, 0.21199272, ..., 0.58121641, 0.64595942,\n",
              "        0.4404814 ],\n",
              "       [0.63274986, 0.46455687, 0.37414149, ..., 0.7099325 , 0.76516728,\n",
              "        0.75502305],\n",
              "       [0.47509136, 0.43522402, 0.45753122, ..., 0.3022578 , 0.33032062,\n",
              "        0.48580499]])>"
            ]
          },
          "metadata": {},
          "execution_count": 24
        }
      ]
    },
    {
      "cell_type": "code",
      "source": [
        "dados_treino = tf.cast(dados_treino, dtype = tf.float32)\n",
        "dados_teste = tf.cast(dados_teste, dtype = tf.float32)"
      ],
      "metadata": {
        "id": "l8PJgInZtK0b"
      },
      "execution_count": null,
      "outputs": []
    },
    {
      "cell_type": "code",
      "source": [
        "dados_treino"
      ],
      "metadata": {
        "colab": {
          "base_uri": "https://localhost:8080/"
        },
        "id": "7GrvbkJYtUJl",
        "outputId": "3ded097d-eb19-45d0-d4ce-29c6ec6f2eb7"
      },
      "execution_count": null,
      "outputs": [
        {
          "output_type": "execute_result",
          "data": {
            "text/plain": [
              "<tf.Tensor: shape=(3998, 140), dtype=float32, numpy=\n",
              "array([[0.634173  , 0.60144   , 0.5649295 , ..., 0.24180697, 0.27333808,\n",
              "        0.419205  ],\n",
              "       [0.6834834 , 0.5307951 , 0.3063143 , ..., 0.65009296, 0.6815316 ,\n",
              "        0.58446074],\n",
              "       [0.44795084, 0.37356573, 0.3282699 , ..., 0.4154922 , 0.3802308 ,\n",
              "        0.35814732],\n",
              "       ...,\n",
              "       [0.512075  , 0.39628232, 0.33170974, ..., 0.72241414, 0.75635135,\n",
              "        0.7040459 ],\n",
              "       [0.64585084, 0.5674789 , 0.5075381 , ..., 0.4337198 , 0.5030243 ,\n",
              "        0.6156047 ],\n",
              "       [0.51127774, 0.40041333, 0.37825677, ..., 0.44149792, 0.40077224,\n",
              "        0.26994848]], dtype=float32)>"
            ]
          },
          "metadata": {},
          "execution_count": 26
        }
      ]
    },
    {
      "cell_type": "code",
      "source": [
        "labels_treino = labels_treino.astype(bool)\n",
        "labels_teste = labels_teste.astype(bool)"
      ],
      "metadata": {
        "id": "L4HLOHRRtt_g"
      },
      "execution_count": null,
      "outputs": []
    },
    {
      "cell_type": "code",
      "source": [
        "dados_treino_normal = dados_treino[labels_treino]\n",
        "dados_teste_normal = dados_teste[labels_teste]"
      ],
      "metadata": {
        "id": "asjr3eEQt60N"
      },
      "execution_count": null,
      "outputs": []
    },
    {
      "cell_type": "code",
      "source": [
        "dados_treino_normal"
      ],
      "metadata": {
        "colab": {
          "base_uri": "https://localhost:8080/"
        },
        "id": "i8bCSH_OwHdb",
        "outputId": "6d1b71df-3caf-42e2-96ca-5beaecd3f643"
      },
      "execution_count": null,
      "outputs": [
        {
          "output_type": "execute_result",
          "data": {
            "text/plain": [
              "<tf.Tensor: shape=(2321, 140), dtype=float32, numpy=\n",
              "array([[0.6834834 , 0.5307951 , 0.3063143 , ..., 0.65009296, 0.6815316 ,\n",
              "        0.58446074],\n",
              "       [0.44795084, 0.37356573, 0.3282699 , ..., 0.4154922 , 0.3802308 ,\n",
              "        0.35814732],\n",
              "       [0.4871815 , 0.31543225, 0.2647011 , ..., 0.63705486, 0.5587706 ,\n",
              "        0.3526786 ],\n",
              "       ...,\n",
              "       [0.4407831 , 0.25385043, 0.23685683, ..., 0.59369457, 0.4590975 ,\n",
              "        0.23203413],\n",
              "       [0.512075  , 0.39628232, 0.33170974, ..., 0.72241414, 0.75635135,\n",
              "        0.7040459 ],\n",
              "       [0.51127774, 0.40041333, 0.37825677, ..., 0.44149792, 0.40077224,\n",
              "        0.26994848]], dtype=float32)>"
            ]
          },
          "metadata": {},
          "execution_count": 29
        }
      ]
    },
    {
      "cell_type": "code",
      "source": [
        "dados_treino_anormal = dados_treino[~labels_treino]\n",
        "dados_teste_anormal = dados_teste[~labels_teste]"
      ],
      "metadata": {
        "id": "BvX-z8bTwYYE"
      },
      "execution_count": null,
      "outputs": []
    },
    {
      "cell_type": "code",
      "source": [
        "plt.plot(np.arange(140), dados_treino_normal[0])"
      ],
      "metadata": {
        "colab": {
          "base_uri": "https://localhost:8080/"
        },
        "id": "zMdPbaIywiCP",
        "outputId": "f143abbc-776a-4b71-c0d6-7b61409bdd25"
      },
      "execution_count": null,
      "outputs": [
        {
          "output_type": "execute_result",
          "data": {
            "text/plain": [
              "[<matplotlib.lines.Line2D at 0x7f77bfbafcd0>]"
            ]
          },
          "metadata": {},
          "execution_count": 31
        },
        {
          "output_type": "display_data",
          "data": {
            "text/plain": [
              "<Figure size 432x288 with 1 Axes>"
            ],
            "image/png": "[encoded data removed]"
          },
          "metadata": {}
        }
      ]
    },
    {
      "cell_type": "code",
      "source": [
        "plt.plot(np.arange(140), dados_treino_anormal[0])"
      ],
      "metadata": {
        "colab": {
          "base_uri": "https://localhost:8080/"
        },
        "id": "dxFKL3UtxWPu",
        "outputId": "6ce3b8d7-fed7-4681-d7d2-e734b398555a"
      },
      "execution_count": null,
      "outputs": [
        {
          "output_type": "execute_result",
          "data": {
            "text/plain": [
              "[<matplotlib.lines.Line2D at 0x7f77bb83ce50>]"
            ]
          },
          "metadata": {},
          "execution_count": 32
        },
        {
          "output_type": "display_data",
          "data": {
            "text/plain": [
              "<Figure size 432x288 with 1 Axes>"
            ],
            "image/png": "[encoded data removed]"
          },
          "metadata": {}
        }
      ]
    },
    {
      "cell_type": "code",
      "source": [
        "#Build the Neural Network\n",
        "input_dim = dados_treino_normal.shape[1]\n",
        " \n",
        "model = Sequential()\n",
        "model.add(Dense(32,input_dim = input_dim, activation=\"relu\"))\n",
        "model.add(Dense(16, activation=\"relu\"))\n",
        "model.add(Dense(8, activation=\"relu\"))\n",
        "model.add(Dense(16, activation=\"relu\"))\n",
        "model.add(Dense(32, activation=\"relu\"))\n",
        "model.add(Dense(input_dim, activation=\"sigmoid\"))\n",
        "model.compile(optimizer='adam', loss='mae')\n",
        " \n",
        "#Check the architecture of the autoencoder\n",
        "model.summary()"
      ],
      "metadata": {
        "colab": {
          "base_uri": "https://localhost:8080/"
        },
        "id": "61wuIlAUypCS",
        "outputId": "5e9ac003-35e2-4f26-99e4-159a830467d7"
      },
      "execution_count": null,
      "outputs": [
        {
          "output_type": "stream",
          "name": "stdout",
          "text": [
            "Model: \"sequential_1\"\n",
            "_________________________________________________________________\n",
            " Layer (type)                Output Shape              Param #   \n",
            "=================================================================\n",
            " dense_5 (Dense)             (None, 32)                4512      \n",
            "                                                                 \n",
            " dense_6 (Dense)             (None, 16)                528       \n",
            "                                                                 \n",
            " dense_7 (Dense)             (None, 8)                 136       \n",
            "                                                                 \n",
            " dense_8 (Dense)             (None, 16)                144       \n",
            "                                                                 \n",
            " dense_9 (Dense)             (None, 32)                544       \n",
            "                                                                 \n",
            " dense_10 (Dense)            (None, 140)               4620      \n",
            "                                                                 \n",
            "=================================================================\n",
            "Total params: 10,484\n",
            "Trainable params: 10,484\n",
            "Non-trainable params: 0\n",
            "_________________________________________________________________\n"
          ]
        }
      ]
    },
    {
      "cell_type": "code",
      "source": [
        "#Fit the autoencoder and check loss for train and test\n",
        "checkpointer = ModelCheckpoint(filepath=\"nae.h5\", verbose=0, save_best_only=True)\n",
        " \n",
        "#Save history to plot learning curves\n",
        "history = model.fit(dados_treino_normal, dados_treino_normal,\n",
        "epochs=30,\n",
        "batch_size=512,\n",
        "shuffle=True,\n",
        "validation_data=(dados_teste_normal, dados_teste_normal),\n",
        "verbose=1,\n",
        "callbacks=[checkpointer]).history\n",
        " \n",
        "autoencoder = load_model('nae.h5')\n",
        " \n",
        "#Plot losses\n",
        "plt.plot(history['loss'])\n",
        "plt.plot(history['val_loss'])\n",
        "plt.title('model loss')\n",
        "plt.ylabel('loss')\n",
        "plt.xlabel('epoch')\n",
        "plt.legend(['train', 'test'], loc='upper right')"
      ],
      "metadata": {
        "colab": {
          "base_uri": "https://localhost:8080/"
        },
        "id": "uTssPVEdypNm",
        "outputId": "cec2b25f-e882-441c-fec6-52847abefa6b"
      },
      "execution_count": null,
      "outputs": [
        {
          "output_type": "stream",
          "name": "stdout",
          "text": [
            "Epoch 1/30\n",
            "5/5 [==============================] - 1s 48ms/step - loss: 0.1069 - val_loss: 0.1042\n",
            "Epoch 2/30\n",
            "5/5 [==============================] - 0s 18ms/step - loss: 0.1035 - val_loss: 0.1022\n",
            "Epoch 3/30\n",
            "5/5 [==============================] - 0s 15ms/step - loss: 0.1011 - val_loss: 0.0984\n",
            "Epoch 4/30\n",
            "5/5 [==============================] - 0s 17ms/step - loss: 0.0961 - val_loss: 0.0911\n",
            "Epoch 5/30\n",
            "5/5 [==============================] - 0s 16ms/step - loss: 0.0872 - val_loss: 0.0795\n",
            "Epoch 6/30\n",
            "5/5 [==============================] - 0s 15ms/step - loss: 0.0747 - val_loss: 0.0663\n",
            "Epoch 7/30\n",
            "5/5 [==============================] - 0s 16ms/step - loss: 0.0628 - val_loss: 0.0578\n",
            "Epoch 8/30\n",
            "5/5 [==============================] - 0s 16ms/step - loss: 0.0546 - val_loss: 0.0480\n",
            "Epoch 9/30\n",
            "5/5 [==============================] - 0s 15ms/step - loss: 0.0446 - val_loss: 0.0401\n",
            "Epoch 10/30\n",
            "5/5 [==============================] - 0s 16ms/step - loss: 0.0378 - val_loss: 0.0344\n",
            "Epoch 11/30\n",
            "5/5 [==============================] - 0s 15ms/step - loss: 0.0328 - val_loss: 0.0310\n",
            "Epoch 12/30\n",
            "5/5 [==============================] - 0s 17ms/step - loss: 0.0297 - val_loss: 0.0286\n",
            "Epoch 13/30\n",
            "5/5 [==============================] - 0s 20ms/step - loss: 0.0276 - val_loss: 0.0269\n",
            "Epoch 14/30\n",
            "5/5 [==============================] - 0s 17ms/step - loss: 0.0259 - val_loss: 0.0256\n",
            "Epoch 15/30\n",
            "5/5 [==============================] - 0s 15ms/step - loss: 0.0248 - val_loss: 0.0249\n",
            "Epoch 16/30\n",
            "5/5 [==============================] - 0s 15ms/step - loss: 0.0241 - val_loss: 0.0244\n",
            "Epoch 17/30\n",
            "5/5 [==============================] - 0s 16ms/step - loss: 0.0236 - val_loss: 0.0240\n",
            "Epoch 18/30\n",
            "5/5 [==============================] - 0s 15ms/step - loss: 0.0234 - val_loss: 0.0239\n",
            "Epoch 19/30\n",
            "5/5 [==============================] - 0s 15ms/step - loss: 0.0233 - val_loss: 0.0239\n",
            "Epoch 20/30\n",
            "5/5 [==============================] - 0s 15ms/step - loss: 0.0233 - val_loss: 0.0238\n",
            "Epoch 21/30\n",
            "5/5 [==============================] - 0s 16ms/step - loss: 0.0232 - val_loss: 0.0238\n",
            "Epoch 22/30\n",
            "5/5 [==============================] - 0s 16ms/step - loss: 0.0232 - val_loss: 0.0238\n",
            "Epoch 23/30\n",
            "5/5 [==============================] - 0s 15ms/step - loss: 0.0232 - val_loss: 0.0238\n",
            "Epoch 24/30\n",
            "5/5 [==============================] - 0s 17ms/step - loss: 0.0232 - val_loss: 0.0238\n",
            "Epoch 25/30\n",
            "5/5 [==============================] - 0s 9ms/step - loss: 0.0232 - val_loss: 0.0238\n",
            "Epoch 26/30\n",
            "5/5 [==============================] - 0s 15ms/step - loss: 0.0232 - val_loss: 0.0238\n",
            "Epoch 27/30\n",
            "5/5 [==============================] - 0s 9ms/step - loss: 0.0232 - val_loss: 0.0238\n",
            "Epoch 28/30\n",
            "5/5 [==============================] - 0s 16ms/step - loss: 0.0231 - val_loss: 0.0237\n",
            "Epoch 29/30\n",
            "5/5 [==============================] - 0s 8ms/step - loss: 0.0231 - val_loss: 0.0237\n",
            "Epoch 30/30\n",
            "5/5 [==============================] - 0s 17ms/step - loss: 0.0231 - val_loss: 0.0237\n"
          ]
        },
        {
          "output_type": "execute_result",
          "data": {
            "text/plain": [
              "<matplotlib.legend.Legend at 0x7f77bb7e8850>"
            ]
          },
          "metadata": {},
          "execution_count": 34
        },
        {
          "output_type": "display_data",
          "data": {
            "text/plain": [
              "<Figure size 432x288 with 1 Axes>"
            ],
            "image/png": "[encoded data removed]"
          },
          "metadata": {}
        }
      ]
    },
    {
      "cell_type": "code",
      "source": [
        "dados_normal = dados_treino_normal[0]\n",
        "dados_recons = model.predict(dados_treino_normal)[0]\n",
        "plt.plot(np.arange(140), dados_normal)\n",
        "plt.plot(np.arange(140), dados_recons)\n",
        "plt.fill_between(np.arange(140),dados_normal, dados_recons, color='lightcoral')\n",
        "plt.legend(labels=['Input', 'Reconstrucao', 'Erro'])\n",
        "plt.show()"
      ],
      "metadata": {
        "colab": {
          "base_uri": "https://localhost:8080/"
        },
        "id": "-M04__8h2z2y",
        "outputId": "564507c8-b554-4733-fb2b-165d79db09e3"
      },
      "execution_count": null,
      "outputs": [
        {
          "output_type": "display_data",
          "data": {
            "text/plain": [
              "<Figure size 432x288 with 1 Axes>"
            ],
            "image/png": "[encoded data removed]"
          },
          "metadata": {}
        }
      ]
    },
    {
      "cell_type": "code",
      "source": [
        "dados_anormal = dados_treino_anormal[0]\n",
        "dados_recons = model.predict(dados_treino_anormal)[0]\n",
        "plt.plot(np.arange(140), dados_anormal)\n",
        "plt.plot(np.arange(140), dados_recons)\n",
        "plt.fill_between(np.arange(140),dados_anormal, dados_recons, color='lightcoral')\n",
        "plt.legend(labels=['Input', 'Reconstrucao', 'Erro'])\n",
        "plt.show()"
      ],
      "metadata": {
        "colab": {
          "base_uri": "https://localhost:8080/"
        },
        "id": "zsKjkvoE6KKp",
        "outputId": "9181a974-cc1e-4df1-949c-315b95bef4d0"
      },
      "execution_count": null,
      "outputs": [
        {
          "output_type": "display_data",
          "data": {
            "text/plain": [
              "<Figure size 432x288 with 1 Axes>"
            ],
            "image/png": "[encoded data removed]"
          },
          "metadata": {}
        }
      ]
    },
    {
      "cell_type": "code",
      "source": [
        ""
      ],
      "metadata": {
        "id": "SKAwb6GWG6c6"
      },
      "execution_count": null,
      "outputs": []
    },
    {
      "cell_type": "code",
      "source": [
        "import numpy \n",
        "import matplotlib.pyplot as plt\n",
        "from keras.models import Sequential\n",
        "from keras.layers import Dense\n",
        "from keras.datasets import mnist"
      ],
      "metadata": {
        "id": "xmiTAsbNG6rT"
      },
      "execution_count": null,
      "outputs": []
    },
    {
      "cell_type": "code",
      "source": [
        "(X_train, y_train), (X_test, y_test) = mnist.load_data()"
      ],
      "metadata": {
        "id": "Vz4RoPM1HGK_",
        "colab": {
          "base_uri": "https://localhost:8080/"
        },
        "outputId": "3f1feebe-e686-48d4-df79-99fa135dbbb1"
      },
      "execution_count": null,
      "outputs": [
        {
          "output_type": "stream",
          "name": "stdout",
          "text": [
            "Downloading data from https://storage.googleapis.com/tensorflow/tf-keras-datasets/mnist.npz\n",
            "11493376/11490434 [==============================] - 0s 0us/step\n",
            "11501568/11490434 [==============================] - 0s 0us/step\n"
          ]
        }
      ]
    },
    {
      "cell_type": "code",
      "source": [
        "X_train.shape"
      ],
      "metadata": {
        "colab": {
          "base_uri": "https://localhost:8080/"
        },
        "id": "PqfWeb6OHGZv",
        "outputId": "19661cd5-137f-4db0-cb16-91d832a7b5a7"
      },
      "execution_count": null,
      "outputs": [
        {
          "output_type": "execute_result",
          "data": {
            "text/plain": [
              "(60000, 28, 28)"
            ]
          },
          "metadata": {},
          "execution_count": 39
        }
      ]
    },
    {
      "cell_type": "code",
      "source": [
        "X_test.shape"
      ],
      "metadata": {
        "colab": {
          "base_uri": "https://localhost:8080/"
        },
        "id": "NxPSdJuGHdUC",
        "outputId": "0ab54aeb-9059-4290-8573-99ea74f8c46d"
      },
      "execution_count": null,
      "outputs": [
        {
          "output_type": "execute_result",
          "data": {
            "text/plain": [
              "(10000, 28, 28)"
            ]
          },
          "metadata": {},
          "execution_count": 40
        }
      ]
    },
    {
      "cell_type": "code",
      "source": [
        "\n",
        "plt.subplot(221)\n",
        "plt.imshow(X_train[0], cmap=plt.get_cmap('gray'))\n",
        "plt.subplot(222)\n",
        "plt.imshow(X_train[1], cmap=plt.get_cmap('gray'))\n",
        "plt.subplot(223)\n",
        "plt.imshow(X_train[2], cmap=plt.get_cmap('gray'))\n",
        "plt.subplot(224)\n",
        "plt.imshow(X_train[3], cmap=plt.get_cmap('gray'))\n",
        "# show the plot\n",
        "plt.show()\n"
      ],
      "metadata": {
        "colab": {
          "base_uri": "https://localhost:8080/",
          "height": 54
        },
        "id": "xq7P9JKiHdhg",
        "outputId": "f454f54c-18ba-45e3-9bc0-661e2e31b7d4"
      },
      "execution_count": null,
      "outputs": [
        {
          "output_type": "display_data",
          "data": {
            "text/plain": [
              "<Figure size 432x288 with 4 Axes>"
            ],
            "image/png": "[encoded data removed]"
          },
          "metadata": {}
        }
      ]
    },
    {
      "cell_type": "code",
      "source": [
        "num_pixels = X_train.shape[1] * X_train.shape[2]\n",
        "X_train = X_train.reshape(X_train.shape[0], num_pixels).astype('float32')\n",
        "X_test = X_test.reshape(X_test.shape[0], num_pixels).astype('float32')\n",
        "X_train = X_train / 255\n",
        "X_test = X_test / 255"
      ],
      "metadata": {
        "id": "KOjUoTtuHGpV"
      },
      "execution_count": null,
      "outputs": []
    },
    {
      "cell_type": "code",
      "source": [
        "X_train.shape"
      ],
      "metadata": {
        "colab": {
          "base_uri": "https://localhost:8080/"
        },
        "id": "gs7WeadnJmFI",
        "outputId": "e951df71-db21-44ce-f09e-7b04fe6da084"
      },
      "execution_count": null,
      "outputs": [
        {
          "output_type": "execute_result",
          "data": {
            "text/plain": [
              "(60000, 784)"
            ]
          },
          "metadata": {},
          "execution_count": 43
        }
      ]
    },
    {
      "cell_type": "code",
      "source": [
        "X_test.shape"
      ],
      "metadata": {
        "colab": {
          "base_uri": "https://localhost:8080/"
        },
        "id": "-Di3r8RPKeiX",
        "outputId": "ebae8332-2a89-43ca-b8e6-46bb034a985c"
      },
      "execution_count": null,
      "outputs": [
        {
          "output_type": "execute_result",
          "data": {
            "text/plain": [
              "(10000, 784)"
            ]
          },
          "metadata": {},
          "execution_count": 44
        }
      ]
    },
    {
      "cell_type": "code",
      "source": [
        "X_train"
      ],
      "metadata": {
        "colab": {
          "base_uri": "https://localhost:8080/"
        },
        "id": "6LDnXL5JKewZ",
        "outputId": "89971886-2495-4ca4-c7cf-2ffedf308242"
      },
      "execution_count": null,
      "outputs": [
        {
          "output_type": "execute_result",
          "data": {
            "text/plain": [
              "array([[0., 0., 0., ..., 0., 0., 0.],\n",
              "       [0., 0., 0., ..., 0., 0., 0.],\n",
              "       [0., 0., 0., ..., 0., 0., 0.],\n",
              "       ...,\n",
              "       [0., 0., 0., ..., 0., 0., 0.],\n",
              "       [0., 0., 0., ..., 0., 0., 0.],\n",
              "       [0., 0., 0., ..., 0., 0., 0.]], dtype=float32)"
            ]
          },
          "metadata": {},
          "execution_count": 45
        }
      ]
    },
    {
      "cell_type": "code",
      "source": [
        "noise_factor = 0.2\n",
        "x_train_noisy = X_train + noise_factor * numpy.random.normal(loc=0.0, scale=1.0, size=X_train.shape)\n",
        "x_test_noisy = X_test + noise_factor * numpy.random.normal(loc=0.0, scale=1.0, size=X_test.shape)\n",
        "x_train_noisy = numpy.clip(x_train_noisy, 0., 1.)\n",
        "x_test_noisy = numpy.clip(x_test_noisy, 0., 1.)"
      ],
      "metadata": {
        "id": "dDGZKM_XJmSB"
      },
      "execution_count": null,
      "outputs": []
    },
    {
      "cell_type": "code",
      "source": [
        "x_train_noisy.shape"
      ],
      "metadata": {
        "colab": {
          "base_uri": "https://localhost:8080/"
        },
        "id": "3UeF5cFCYhu_",
        "outputId": "d9ec919b-e634-4889-ea83-405ab8aef5cf"
      },
      "execution_count": null,
      "outputs": [
        {
          "output_type": "execute_result",
          "data": {
            "text/plain": [
              "(60000, 784)"
            ]
          },
          "metadata": {},
          "execution_count": 47
        }
      ]
    },
    {
      "cell_type": "code",
      "source": [
        "\n",
        "noisy = numpy.reshape(x_train_noisy, (60000,28,28)) *255\n",
        "plt.subplot(221)\n",
        "plt.imshow(noisy[3], cmap=plt.get_cmap('gray'))\n",
        "plt.subplot(222)\n",
        "normal = numpy.reshape(X_train, (60000,28,28)) *255\n",
        "plt.imshow(normal[3], cmap=plt.get_cmap('gray'))\n",
        "# show the plot\n",
        "plt.show()"
      ],
      "metadata": {
        "colab": {
          "base_uri": "https://localhost:8080/"
        },
        "id": "Oc2NGigrJmeF",
        "outputId": "d00ae6ca-f389-432a-b3a5-721b5947983f"
      },
      "execution_count": null,
      "outputs": [
        {
          "output_type": "display_data",
          "data": {
            "text/plain": [
              "<Figure size 432x288 with 2 Axes>"
            ],
            "image/png": "[encoded data removed]"
          },
          "metadata": {}
        }
      ]
    },
    {
      "cell_type": "code",
      "source": [
        "# create model\n",
        "model = Sequential()\n",
        "model.add(Dense(500, input_dim=num_pixels, activation='relu'))\n",
        "model.add(Dense(300, activation='relu'))\n",
        "model.add(Dense(100, activation='relu'))\n",
        "model.add(Dense(300, activation='relu'))\n",
        "model.add(Dense(500, activation='relu'))\n",
        "model.add(Dense(784, activation='sigmoid'))"
      ],
      "metadata": {
        "id": "GuQA10CPLnAT"
      },
      "execution_count": null,
      "outputs": []
    },
    {
      "cell_type": "code",
      "source": [
        "# Compile the model\n",
        "model.compile(loss='mean_squared_error', optimizer='adam')"
      ],
      "metadata": {
        "id": "qnzhyiUtLnNK"
      },
      "execution_count": null,
      "outputs": []
    },
    {
      "cell_type": "code",
      "source": [
        "# Training model\n",
        "model.fit(x_train_noisy, # training data\n",
        "          X_train,       # labels / target\n",
        "          validation_data=(x_test_noisy, X_test), \n",
        "          epochs=2,\n",
        "          batch_size=200)"
      ],
      "metadata": {
        "colab": {
          "base_uri": "https://localhost:8080/"
        },
        "id": "QLIEmFw3NbHh",
        "outputId": "0adce380-c8aa-4005-ea91-7b096e6286f9"
      },
      "execution_count": null,
      "outputs": [
        {
          "output_type": "stream",
          "name": "stdout",
          "text": [
            "Epoch 1/2\n",
            "300/300 [==============================] - 10s 31ms/step - loss: 0.0420 - val_loss: 0.0198\n",
            "Epoch 2/2\n",
            "300/300 [==============================] - 9s 31ms/step - loss: 0.0167 - val_loss: 0.0141\n"
          ]
        },
        {
          "output_type": "execute_result",
          "data": {
            "text/plain": [
              "<keras.callbacks.History at 0x7f77bb408f90>"
            ]
          },
          "metadata": {},
          "execution_count": 51
        }
      ]
    },
    {
      "cell_type": "code",
      "source": [
        "# Final evaluation of the model\n",
        "pred = model.predict(x_test_noisy)"
      ],
      "metadata": {
        "id": "xPSuG9zvNbT9"
      },
      "execution_count": null,
      "outputs": []
    },
    {
      "cell_type": "code",
      "source": [
        "pred.shape"
      ],
      "metadata": {
        "colab": {
          "base_uri": "https://localhost:8080/"
        },
        "id": "6DZ9ClQPLnX6",
        "outputId": "e4e9aaec-abae-4026-ccb9-dd95607058a9"
      },
      "execution_count": null,
      "outputs": [
        {
          "output_type": "execute_result",
          "data": {
            "text/plain": [
              "(10000, 784)"
            ]
          },
          "metadata": {},
          "execution_count": 53
        }
      ]
    },
    {
      "cell_type": "code",
      "source": [
        "X_test.shape"
      ],
      "metadata": {
        "colab": {
          "base_uri": "https://localhost:8080/"
        },
        "id": "O1cmtKkrN-lP",
        "outputId": "224bd695-508e-488a-af0f-6ade65b97d6b"
      },
      "execution_count": null,
      "outputs": [
        {
          "output_type": "execute_result",
          "data": {
            "text/plain": [
              "(10000, 784)"
            ]
          },
          "metadata": {},
          "execution_count": 54
        }
      ]
    },
    {
      "cell_type": "code",
      "source": [
        "X_test = numpy.reshape(X_test, (10000,28,28)) *255\n",
        "pred = numpy.reshape(pred, (10000,28,28)) *255\n",
        "x_test_noisy = numpy.reshape(x_test_noisy, (-1,28,28)) *255\n",
        "plt.figure(figsize=(20, 4))\n",
        "print(\"Test Images\")\n",
        "for i in range(10,20,1):\n",
        "    plt.subplot(2, 10, i+1)\n",
        "    plt.imshow(X_test[i,:,:], cmap='gray')\n",
        "    curr_lbl = y_test[i]\n",
        "    plt.title(\"(Label: \" + str(curr_lbl) + \")\")\n",
        "plt.show()    \n",
        "plt.figure(figsize=(20, 4))\n",
        "print(\"Test Images with Noise\")\n",
        "for i in range(10,20,1):\n",
        "    plt.subplot(2, 10, i+1)\n",
        "    plt.imshow(x_test_noisy[i,:,:], cmap='gray')\n",
        "plt.show()    \n",
        "plt.figure(figsize=(20, 4))\n",
        "print(\"Reconstruction of Noisy Test Images\")\n",
        "for i in range(10,20,1):\n",
        "    plt.subplot(2, 10, i+1)\n",
        "    plt.imshow(pred[i,:,:], cmap='gray')  \n",
        "plt.show()"
      ],
      "metadata": {
        "colab": {
          "base_uri": "https://localhost:8080/",
          "height": 289
        },
        "id": "eO1fed4DN-x8",
        "outputId": "f3e6e0ff-ec70-429b-de98-e35fbb21886e"
      },
      "execution_count": null,
      "outputs": [
        {
          "output_type": "stream",
          "name": "stdout",
          "text": [
            "Test Images\n"
          ]
        },
        {
          "output_type": "display_data",
          "data": {
            "text/plain": [
              "<Figure size 1440x288 with 10 Axes>"
            ],
            "image/png": "[encoded data removed]"
          },
          "metadata": {}
        },
        {
          "output_type": "stream",
          "name": "stdout",
          "text": [
            "Test Images with Noise\n"
          ]
        },
        {
          "output_type": "display_data",
          "data": {
            "text/plain": [
              "<Figure size 1440x288 with 10 Axes>"
            ],
            "image/png": "[encoded data removed]"
          },
          "metadata": {}
        },
        {
          "output_type": "stream",
          "name": "stdout",
          "text": [
            "Reconstruction of Noisy Test Images\n"
          ]
        },
        {
          "output_type": "display_data",
          "data": {
            "text/plain": [
              "<Figure size 1440x288 with 10 Axes>"
            ],
            "image/png": "[encoded data removed]"
          },
          "metadata": {}
        }
      ]
    },
    {
      "cell_type": "code",
      "source": [
        ""
      ],
      "metadata": {
        "id": "lRLg6QvdN-9y"
      },
      "execution_count": null,
      "outputs": []
    },
    {
      "cell_type": "code",
      "source": [
        "#Fit the autoencoder and check loss for train and test\n",
        "checkpointer = ModelCheckpoint(filepath=\"nae.h5\", verbose=0, save_best_only=True)\n",
        " \n",
        "#Save history to plot learning curves\n",
        "history = model.fit(x_train_noisy, \n",
        "                    X_train,\n",
        "                    epochs=30,\n",
        "                    batch_size=512,\n",
        "                    shuffle=True,\n",
        "                    validation_data=(x_test_noisy, X_test),\n",
        "                    verbose=1,\n",
        "                    callbacks=[checkpointer]).history\n",
        "\n",
        " \n",
        "autoencoder = load_model('nae.h5')\n",
        " \n",
        "#Plot losses\n",
        "plt.plot(history['loss'])\n",
        "plt.plot(history['val_loss'])\n",
        "plt.title('model loss')\n",
        "plt.ylabel('loss')\n",
        "plt.xlabel('epoch')\n",
        "plt.legend(['train', 'test'], loc='upper right')"
      ],
      "metadata": {
        "colab": {
          "base_uri": "https://localhost:8080/",
          "height": 833
        },
        "id": "q13sQIlBN_JI",
        "outputId": "1091fe1a-2c4c-4761-b181-47d3c6a529b0"
      },
      "execution_count": null,
      "outputs": [
        {
          "output_type": "stream",
          "name": "stdout",
          "text": [
            "Epoch 1/30\n",
            "117/118 [============================>.] - ETA: 0s - loss: 0.0129"
          ]
        },
        {
          "output_type": "error",
          "ename": "ValueError",
          "evalue": "ignored",
          "traceback": [
            "\u001b[0;31m---------------------------------------------------------------------------\u001b[0m",
            "\u001b[0;31mValueError\u001b[0m                                Traceback (most recent call last)",
            "\u001b[0;32m<ipython-input-56-a8b6b1fd62eb>\u001b[0m in \u001b[0;36m<module>\u001b[0;34m()\u001b[0m\n\u001b[1;32m     10\u001b[0m                     \u001b[0mvalidation_data\u001b[0m\u001b[0;34m=\u001b[0m\u001b[0;34m(\u001b[0m\u001b[0mx_test_noisy\u001b[0m\u001b[0;34m,\u001b[0m \u001b[0mX_test\u001b[0m\u001b[0;34m)\u001b[0m\u001b[0;34m,\u001b[0m\u001b[0;34m\u001b[0m\u001b[0;34m\u001b[0m\u001b[0m\n\u001b[1;32m     11\u001b[0m                     \u001b[0mverbose\u001b[0m\u001b[0;34m=\u001b[0m\u001b[0;36m1\u001b[0m\u001b[0;34m,\u001b[0m\u001b[0;34m\u001b[0m\u001b[0;34m\u001b[0m\u001b[0m\n\u001b[0;32m---> 12\u001b[0;31m                     callbacks=[checkpointer]).history\n\u001b[0m\u001b[1;32m     13\u001b[0m \u001b[0;34m\u001b[0m\u001b[0m\n\u001b[1;32m     14\u001b[0m \u001b[0;34m\u001b[0m\u001b[0m\n",
            "\u001b[0;32m/usr/local/lib/python3.7/dist-packages/keras/utils/traceback_utils.py\u001b[0m in \u001b[0;36merror_handler\u001b[0;34m(*args, **kwargs)\u001b[0m\n\u001b[1;32m     65\u001b[0m     \u001b[0;32mexcept\u001b[0m \u001b[0mException\u001b[0m \u001b[0;32mas\u001b[0m \u001b[0me\u001b[0m\u001b[0;34m:\u001b[0m  \u001b[0;31m# pylint: disable=broad-except\u001b[0m\u001b[0;34m\u001b[0m\u001b[0;34m\u001b[0m\u001b[0m\n\u001b[1;32m     66\u001b[0m       \u001b[0mfiltered_tb\u001b[0m \u001b[0;34m=\u001b[0m \u001b[0m_process_traceback_frames\u001b[0m\u001b[0;34m(\u001b[0m\u001b[0me\u001b[0m\u001b[0;34m.\u001b[0m\u001b[0m__traceback__\u001b[0m\u001b[0;34m)\u001b[0m\u001b[0;34m\u001b[0m\u001b[0;34m\u001b[0m\u001b[0m\n\u001b[0;32m---> 67\u001b[0;31m       \u001b[0;32mraise\u001b[0m \u001b[0me\u001b[0m\u001b[0;34m.\u001b[0m\u001b[0mwith_traceback\u001b[0m\u001b[0;34m(\u001b[0m\u001b[0mfiltered_tb\u001b[0m\u001b[0;34m)\u001b[0m \u001b[0;32mfrom\u001b[0m \u001b[0;32mNone\u001b[0m\u001b[0;34m\u001b[0m\u001b[0;34m\u001b[0m\u001b[0m\n\u001b[0m\u001b[1;32m     68\u001b[0m     \u001b[0;32mfinally\u001b[0m\u001b[0;34m:\u001b[0m\u001b[0;34m\u001b[0m\u001b[0;34m\u001b[0m\u001b[0m\n\u001b[1;32m     69\u001b[0m       \u001b[0;32mdel\u001b[0m \u001b[0mfiltered_tb\u001b[0m\u001b[0;34m\u001b[0m\u001b[0;34m\u001b[0m\u001b[0m\n",
            "\u001b[0;32m/usr/local/lib/python3.7/dist-packages/tensorflow/python/framework/func_graph.py\u001b[0m in \u001b[0;36mautograph_handler\u001b[0;34m(*args, **kwargs)\u001b[0m\n\u001b[1;32m   1145\u001b[0m           \u001b[0;32mexcept\u001b[0m \u001b[0mException\u001b[0m \u001b[0;32mas\u001b[0m \u001b[0me\u001b[0m\u001b[0;34m:\u001b[0m  \u001b[0;31m# pylint:disable=broad-except\u001b[0m\u001b[0;34m\u001b[0m\u001b[0;34m\u001b[0m\u001b[0m\n\u001b[1;32m   1146\u001b[0m             \u001b[0;32mif\u001b[0m \u001b[0mhasattr\u001b[0m\u001b[0;34m(\u001b[0m\u001b[0me\u001b[0m\u001b[0;34m,\u001b[0m \u001b[0;34m\"ag_error_metadata\"\u001b[0m\u001b[0;34m)\u001b[0m\u001b[0;34m:\u001b[0m\u001b[0;34m\u001b[0m\u001b[0;34m\u001b[0m\u001b[0m\n\u001b[0;32m-> 1147\u001b[0;31m               \u001b[0;32mraise\u001b[0m \u001b[0me\u001b[0m\u001b[0;34m.\u001b[0m\u001b[0mag_error_metadata\u001b[0m\u001b[0;34m.\u001b[0m\u001b[0mto_exception\u001b[0m\u001b[0;34m(\u001b[0m\u001b[0me\u001b[0m\u001b[0;34m)\u001b[0m\u001b[0;34m\u001b[0m\u001b[0;34m\u001b[0m\u001b[0m\n\u001b[0m\u001b[1;32m   1148\u001b[0m             \u001b[0;32melse\u001b[0m\u001b[0;34m:\u001b[0m\u001b[0;34m\u001b[0m\u001b[0;34m\u001b[0m\u001b[0m\n\u001b[1;32m   1149\u001b[0m               \u001b[0;32mraise\u001b[0m\u001b[0;34m\u001b[0m\u001b[0;34m\u001b[0m\u001b[0m\n",
            "\u001b[0;31mValueError\u001b[0m: in user code:\n\n    File \"/usr/local/lib/python3.7/dist-packages/keras/engine/training.py\", line 1525, in test_function  *\n        return step_function(self, iterator)\n    File \"/usr/local/lib/python3.7/dist-packages/keras/engine/training.py\", line 1514, in step_function  **\n        outputs = model.distribute_strategy.run(run_step, args=(data,))\n    File \"/usr/local/lib/python3.7/dist-packages/keras/engine/training.py\", line 1507, in run_step  **\n        outputs = model.test_step(data)\n    File \"/usr/local/lib/python3.7/dist-packages/keras/engine/training.py\", line 1471, in test_step\n        y_pred = self(x, training=False)\n    File \"/usr/local/lib/python3.7/dist-packages/keras/utils/traceback_utils.py\", line 67, in error_handler\n        raise e.with_traceback(filtered_tb) from None\n    File \"/usr/local/lib/python3.7/dist-packages/keras/engine/input_spec.py\", line 264, in assert_input_compatibility\n        raise ValueError(f'Input {input_index} of layer \"{layer_name}\" is '\n\n    ValueError: Input 0 of layer \"sequential_2\" is incompatible with the layer: expected shape=(None, 784), found shape=(None, 28, 28)\n"
          ]
        }
      ]
    }
  ]
}